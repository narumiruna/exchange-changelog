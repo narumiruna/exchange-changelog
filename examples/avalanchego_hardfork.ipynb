{
 "cells": [
  {
   "cell_type": "code",
   "execution_count": 1,
   "metadata": {},
   "outputs": [],
   "source": [
    "import feedparser\n",
    "import httpx\n",
    "from dotenv import load_dotenv\n",
    "from openai import OpenAI\n",
    "from pydantic import BaseModel\n",
    "from pydantic import Field\n",
    "from rich import print"
   ]
  },
  {
   "cell_type": "code",
   "execution_count": 2,
   "metadata": {},
   "outputs": [
    {
     "data": {
      "text/plain": [
       "True"
      ]
     },
     "execution_count": 2,
     "metadata": {},
     "output_type": "execute_result"
    }
   ],
   "source": [
    "load_dotenv()"
   ]
  },
  {
   "cell_type": "code",
   "execution_count": 3,
   "metadata": {},
   "outputs": [
    {
     "data": {
      "text/html": [
       "<pre style=\"white-space:pre;overflow-x:auto;line-height:normal;font-family:Menlo,'DejaVu Sans Mono',consolas,'Courier New',monospace\">id: tag:github.com,<span style=\"color: #008080; text-decoration-color: #008080; font-weight: bold\">2008</span>:Repository/<span style=\"color: #008080; text-decoration-color: #008080; font-weight: bold\">246387644</span>/v1.<span style=\"color: #008080; text-decoration-color: #008080; font-weight: bold\">12.0</span>-fuji<span style=\"color: #808000; text-decoration-color: #808000\">...</span>\n",
       "</pre>\n"
      ],
      "text/plain": [
       "id: tag:github.com,\u001b[1;36m2008\u001b[0m:Repository/\u001b[1;36m246387644\u001b[0m/v1.\u001b[1;36m12.0\u001b[0m-fuji\u001b[33m...\u001b[0m\n"
      ]
     },
     "metadata": {},
     "output_type": "display_data"
    },
    {
     "data": {
      "text/html": [
       "<pre style=\"white-space:pre;overflow-x:auto;line-height:normal;font-family:Menlo,'DejaVu Sans Mono',consolas,'Courier New',monospace\">guidislink: <span style=\"color: #00ff00; text-decoration-color: #00ff00; font-style: italic\">True</span><span style=\"color: #808000; text-decoration-color: #808000\">...</span>\n",
       "</pre>\n"
      ],
      "text/plain": [
       "guidislink: \u001b[3;92mTrue\u001b[0m\u001b[33m...\u001b[0m\n"
      ]
     },
     "metadata": {},
     "output_type": "display_data"
    },
    {
     "data": {
      "text/html": [
       "<pre style=\"white-space:pre;overflow-x:auto;line-height:normal;font-family:Menlo,'DejaVu Sans Mono',consolas,'Courier New',monospace\">link: <span style=\"color: #0000ff; text-decoration-color: #0000ff; text-decoration: underline\">https://github.com/ava-labs/avalanchego/releases/tag/v1.12.0-fuji...</span>\n",
       "</pre>\n"
      ],
      "text/plain": [
       "link: \u001b[4;94mhttps://github.com/ava-labs/avalanchego/releases/tag/v1.12.0-fuji...\u001b[0m\n"
      ]
     },
     "metadata": {},
     "output_type": "display_data"
    },
    {
     "data": {
      "text/html": [
       "<pre style=\"white-space:pre;overflow-x:auto;line-height:normal;font-family:Menlo,'DejaVu Sans Mono',consolas,'Courier New',monospace\">updated: <span style=\"color: #008080; text-decoration-color: #008080; font-weight: bold\">2024</span>-<span style=\"color: #008080; text-decoration-color: #008080; font-weight: bold\">11</span>-19T<span style=\"color: #00ff00; text-decoration-color: #00ff00; font-weight: bold\">02:31:48</span>Z<span style=\"color: #808000; text-decoration-color: #808000\">...</span>\n",
       "</pre>\n"
      ],
      "text/plain": [
       "updated: \u001b[1;36m2024\u001b[0m-\u001b[1;36m11\u001b[0m-19T\u001b[1;92m02:31:48\u001b[0mZ\u001b[33m...\u001b[0m\n"
      ]
     },
     "metadata": {},
     "output_type": "display_data"
    },
    {
     "data": {
      "text/html": [
       "<pre style=\"white-space:pre;overflow-x:auto;line-height:normal;font-family:Menlo,'DejaVu Sans Mono',consolas,'Courier New',monospace\">updated_parsed: <span style=\"color: #800080; text-decoration-color: #800080; font-weight: bold\">time.struct_time</span><span style=\"font-weight: bold\">(</span><span style=\"color: #808000; text-decoration-color: #808000\">tm_year</span>=<span style=\"color: #008080; text-decoration-color: #008080; font-weight: bold\">2024</span>, <span style=\"color: #808000; text-decoration-color: #808000\">tm_mon</span>=<span style=\"color: #008080; text-decoration-color: #008080; font-weight: bold\">11</span>, <span style=\"color: #808000; text-decoration-color: #808000\">tm_mday</span>=<span style=\"color: #008080; text-decoration-color: #008080; font-weight: bold\">19</span>, <span style=\"color: #808000; text-decoration-color: #808000\">tm_hour</span>=<span style=\"color: #008080; text-decoration-color: #008080; font-weight: bold\">2</span>, <span style=\"color: #808000; text-decoration-color: #808000\">tm_min</span>=<span style=\"color: #008080; text-decoration-color: #008080; font-weight: bold\">31</span>, <span style=\"color: #808000; text-decoration-color: #808000\">tm_sec</span>=<span style=\"color: #008080; text-decoration-color: #008080; font-weight: bold\">48</span>, <span style=\"color: #808000; text-decoration-color: #808000\">tm_wday</span>=<span style=\"color: #008080; text-decoration-color: #008080; font-weight: bold\">1</span>, \n",
       "tm<span style=\"color: #808000; text-decoration-color: #808000\">...</span>\n",
       "</pre>\n"
      ],
      "text/plain": [
       "updated_parsed: \u001b[1;35mtime.struct_time\u001b[0m\u001b[1m(\u001b[0m\u001b[33mtm_year\u001b[0m=\u001b[1;36m2024\u001b[0m, \u001b[33mtm_mon\u001b[0m=\u001b[1;36m11\u001b[0m, \u001b[33mtm_mday\u001b[0m=\u001b[1;36m19\u001b[0m, \u001b[33mtm_hour\u001b[0m=\u001b[1;36m2\u001b[0m, \u001b[33mtm_min\u001b[0m=\u001b[1;36m31\u001b[0m, \u001b[33mtm_sec\u001b[0m=\u001b[1;36m48\u001b[0m, \u001b[33mtm_wday\u001b[0m=\u001b[1;36m1\u001b[0m, \n",
       "tm\u001b[33m...\u001b[0m\n"
      ]
     },
     "metadata": {},
     "output_type": "display_data"
    },
    {
     "data": {
      "text/html": [
       "<pre style=\"white-space:pre;overflow-x:auto;line-height:normal;font-family:Menlo,'DejaVu Sans Mono',consolas,'Courier New',monospace\">links: <span style=\"font-weight: bold\">[{</span><span style=\"color: #008000; text-decoration-color: #008000\">'rel'</span>: <span style=\"color: #008000; text-decoration-color: #008000\">'alternate'</span>, <span style=\"color: #008000; text-decoration-color: #008000\">'type'</span>: <span style=\"color: #008000; text-decoration-color: #008000\">'text/html'</span>, <span style=\"color: #008000; text-decoration-color: #008000\">'href'</span>: '<span style=\"color: #0000ff; text-decoration-color: #0000ff; text-decoration: underline\">https://github.com/ava-labs/avalanchego/releases...</span>\n",
       "</pre>\n"
      ],
      "text/plain": [
       "links: \u001b[1m[\u001b[0m\u001b[1m{\u001b[0m\u001b[32m'rel'\u001b[0m: \u001b[32m'alternate'\u001b[0m, \u001b[32m'type'\u001b[0m: \u001b[32m'text/html'\u001b[0m, \u001b[32m'href'\u001b[0m: '\u001b[4;94mhttps://github.com/ava-labs/avalanchego/releases...\u001b[0m\n"
      ]
     },
     "metadata": {},
     "output_type": "display_data"
    },
    {
     "data": {
      "text/html": [
       "<pre style=\"white-space:pre;overflow-x:auto;line-height:normal;font-family:Menlo,'DejaVu Sans Mono',consolas,'Courier New',monospace\">title: Etna - Reinventing Subnets - Fuji Pre-Release<span style=\"color: #808000; text-decoration-color: #808000\">...</span>\n",
       "</pre>\n"
      ],
      "text/plain": [
       "title: Etna - Reinventing Subnets - Fuji Pre-Release\u001b[33m...\u001b[0m\n"
      ]
     },
     "metadata": {},
     "output_type": "display_data"
    },
    {
     "data": {
      "text/html": [
       "<pre style=\"white-space:pre;overflow-x:auto;line-height:normal;font-family:Menlo,'DejaVu Sans Mono',consolas,'Courier New',monospace\">title_detail: <span style=\"font-weight: bold\">{</span><span style=\"color: #008000; text-decoration-color: #008000\">'type'</span>: <span style=\"color: #008000; text-decoration-color: #008000\">'text/plain'</span>, <span style=\"color: #008000; text-decoration-color: #008000\">'language'</span>: <span style=\"color: #008000; text-decoration-color: #008000\">'en-US'</span>, <span style=\"color: #008000; text-decoration-color: #008000\">'base'</span>: <span style=\"color: #008000; text-decoration-color: #008000\">''</span>, <span style=\"color: #008000; text-decoration-color: #008000\">'value'</span>: 'Etna - Reinventing Subnets - Fuji \n",
       "<span style=\"color: #808000; text-decoration-color: #808000\">...</span>\n",
       "</pre>\n"
      ],
      "text/plain": [
       "title_detail: \u001b[1m{\u001b[0m\u001b[32m'type'\u001b[0m: \u001b[32m'text/plain'\u001b[0m, \u001b[32m'language'\u001b[0m: \u001b[32m'en-US'\u001b[0m, \u001b[32m'base'\u001b[0m: \u001b[32m''\u001b[0m, \u001b[32m'value'\u001b[0m: 'Etna - Reinventing Subnets - Fuji \n",
       "\u001b[33m...\u001b[0m\n"
      ]
     },
     "metadata": {},
     "output_type": "display_data"
    },
    {
     "data": {
      "text/html": [
       "<pre style=\"white-space:pre;overflow-x:auto;line-height:normal;font-family:Menlo,'DejaVu Sans Mono',consolas,'Courier New',monospace\">content: <span style=\"font-weight: bold\">[{</span><span style=\"color: #008000; text-decoration-color: #008000\">'type'</span>: <span style=\"color: #008000; text-decoration-color: #008000\">'text/html'</span>, <span style=\"color: #008000; text-decoration-color: #008000\">'language'</span>: <span style=\"color: #008000; text-decoration-color: #008000\">'en-US'</span>, <span style=\"color: #008000; text-decoration-color: #008000\">'base'</span>: <span style=\"color: #008000; text-decoration-color: #008000\">''</span>, <span style=\"color: #008000; text-decoration-color: #008000\">'value'</span>: '<span style=\"font-weight: bold\">&lt;</span><span style=\"color: #ff00ff; text-decoration-color: #ff00ff; font-weight: bold\">p</span><span style=\"color: #000000; text-decoration-color: #000000\">&gt;&lt;strong</span><span style=\"font-weight: bold\">&gt;</span>Please note that this r<span style=\"color: #808000; text-decoration-color: #808000\">...</span>\n",
       "</pre>\n"
      ],
      "text/plain": [
       "content: \u001b[1m[\u001b[0m\u001b[1m{\u001b[0m\u001b[32m'type'\u001b[0m: \u001b[32m'text/html'\u001b[0m, \u001b[32m'language'\u001b[0m: \u001b[32m'en-US'\u001b[0m, \u001b[32m'base'\u001b[0m: \u001b[32m''\u001b[0m, \u001b[32m'value'\u001b[0m: '\u001b[1m<\u001b[0m\u001b[1;95mp\u001b[0m\u001b[39m><strong\u001b[0m\u001b[1m>\u001b[0mPlease note that this r\u001b[33m...\u001b[0m\n"
      ]
     },
     "metadata": {},
     "output_type": "display_data"
    },
    {
     "data": {
      "text/html": [
       "<pre style=\"white-space:pre;overflow-x:auto;line-height:normal;font-family:Menlo,'DejaVu Sans Mono',consolas,'Courier New',monospace\">summary: <span style=\"font-weight: bold\">&lt;</span><span style=\"color: #ff00ff; text-decoration-color: #ff00ff; font-weight: bold\">p</span><span style=\"color: #000000; text-decoration-color: #000000\">&gt;&lt;strong</span><span style=\"font-weight: bold\">&gt;</span>Please note that this release is unable to run mainnet - and will display \"mainnet is not<span style=\"color: #808000; text-decoration-color: #808000\">...</span>\n",
       "</pre>\n"
      ],
      "text/plain": [
       "summary: \u001b[1m<\u001b[0m\u001b[1;95mp\u001b[0m\u001b[39m><strong\u001b[0m\u001b[1m>\u001b[0mPlease note that this release is unable to run mainnet - and will display \"mainnet is not\u001b[33m...\u001b[0m\n"
      ]
     },
     "metadata": {},
     "output_type": "display_data"
    },
    {
     "data": {
      "text/html": [
       "<pre style=\"white-space:pre;overflow-x:auto;line-height:normal;font-family:Menlo,'DejaVu Sans Mono',consolas,'Courier New',monospace\">authors: <span style=\"font-weight: bold\">[{</span><span style=\"color: #008000; text-decoration-color: #008000\">'name'</span>: <span style=\"color: #008000; text-decoration-color: #008000\">'StephenButtolph'</span><span style=\"font-weight: bold\">}]</span><span style=\"color: #808000; text-decoration-color: #808000\">...</span>\n",
       "</pre>\n"
      ],
      "text/plain": [
       "authors: \u001b[1m[\u001b[0m\u001b[1m{\u001b[0m\u001b[32m'name'\u001b[0m: \u001b[32m'StephenButtolph'\u001b[0m\u001b[1m}\u001b[0m\u001b[1m]\u001b[0m\u001b[33m...\u001b[0m\n"
      ]
     },
     "metadata": {},
     "output_type": "display_data"
    },
    {
     "data": {
      "text/html": [
       "<pre style=\"white-space:pre;overflow-x:auto;line-height:normal;font-family:Menlo,'DejaVu Sans Mono',consolas,'Courier New',monospace\">author_detail: <span style=\"font-weight: bold\">{</span><span style=\"color: #008000; text-decoration-color: #008000\">'name'</span>: <span style=\"color: #008000; text-decoration-color: #008000\">'StephenButtolph'</span><span style=\"font-weight: bold\">}</span><span style=\"color: #808000; text-decoration-color: #808000\">...</span>\n",
       "</pre>\n"
      ],
      "text/plain": [
       "author_detail: \u001b[1m{\u001b[0m\u001b[32m'name'\u001b[0m: \u001b[32m'StephenButtolph'\u001b[0m\u001b[1m}\u001b[0m\u001b[33m...\u001b[0m\n"
      ]
     },
     "metadata": {},
     "output_type": "display_data"
    },
    {
     "data": {
      "text/html": [
       "<pre style=\"white-space:pre;overflow-x:auto;line-height:normal;font-family:Menlo,'DejaVu Sans Mono',consolas,'Courier New',monospace\">author: StephenButtolph<span style=\"color: #808000; text-decoration-color: #808000\">...</span>\n",
       "</pre>\n"
      ],
      "text/plain": [
       "author: StephenButtolph\u001b[33m...\u001b[0m\n"
      ]
     },
     "metadata": {},
     "output_type": "display_data"
    },
    {
     "data": {
      "text/html": [
       "<pre style=\"white-space:pre;overflow-x:auto;line-height:normal;font-family:Menlo,'DejaVu Sans Mono',consolas,'Courier New',monospace\">media_thumbnail: <span style=\"font-weight: bold\">[{</span><span style=\"color: #008000; text-decoration-color: #008000\">'height'</span>: <span style=\"color: #008000; text-decoration-color: #008000\">'30'</span>, <span style=\"color: #008000; text-decoration-color: #008000\">'width'</span>: <span style=\"color: #008000; text-decoration-color: #008000\">'30'</span>, <span style=\"color: #008000; text-decoration-color: #008000\">'url'</span>: \n",
       "<span style=\"color: #008000; text-decoration-color: #008000\">'https://avatars.githubusercontent.com/u/22109487?s=60&amp;v=4'</span><span style=\"font-weight: bold\">}</span><span style=\"color: #808000; text-decoration-color: #808000\">...</span>\n",
       "</pre>\n"
      ],
      "text/plain": [
       "media_thumbnail: \u001b[1m[\u001b[0m\u001b[1m{\u001b[0m\u001b[32m'height'\u001b[0m: \u001b[32m'30'\u001b[0m, \u001b[32m'width'\u001b[0m: \u001b[32m'30'\u001b[0m, \u001b[32m'url'\u001b[0m: \n",
       "\u001b[32m'https://avatars.githubusercontent.com/u/22109487?\u001b[0m\u001b[32ms\u001b[0m\u001b[32m=\u001b[0m\u001b[32m60\u001b[0m\u001b[32m&\u001b[0m\u001b[32mv\u001b[0m\u001b[32m=\u001b[0m\u001b[32m4\u001b[0m\u001b[32m'\u001b[0m\u001b[1m}\u001b[0m\u001b[33m...\u001b[0m\n"
      ]
     },
     "metadata": {},
     "output_type": "display_data"
    },
    {
     "data": {
      "text/html": [
       "<pre style=\"white-space:pre;overflow-x:auto;line-height:normal;font-family:Menlo,'DejaVu Sans Mono',consolas,'Courier New',monospace\">href: <span style=\"color: #808000; text-decoration-color: #808000\">...</span>\n",
       "</pre>\n"
      ],
      "text/plain": [
       "href: \u001b[33m...\u001b[0m\n"
      ]
     },
     "metadata": {},
     "output_type": "display_data"
    }
   ],
   "source": [
    "url = \"https://github.com/ava-labs/avalanchego/releases.atom\"\n",
    "\n",
    "resp = httpx.get(url)\n",
    "resp.raise_for_status()\n",
    "\n",
    "\n",
    "rss = feedparser.parse(resp.text)\n",
    "for entry in rss[\"entries\"]:\n",
    "    for k, v in entry.items():\n",
    "        print(f\"{k}: {str(v)[:100]}...\")\n",
    "    break"
   ]
  },
  {
   "cell_type": "code",
   "execution_count": 4,
   "metadata": {},
   "outputs": [
    {
     "data": {
      "text/html": [
       "<pre style=\"white-space:pre;overflow-x:auto;line-height:normal;font-family:Menlo,'DejaVu Sans Mono',consolas,'Courier New',monospace\">link: <span style=\"color: #0000ff; text-decoration-color: #0000ff; text-decoration: underline\">https://github.com/ava-labs/avalanchego/releases/tag/v1.12.0-fuji,</span> hardfork: <span style=\"color: #808000; text-decoration-color: #808000\">hardfork</span>=<span style=\"color: #00ff00; text-decoration-color: #00ff00; font-style: italic\">True</span> <span style=\"color: #808000; text-decoration-color: #808000\">confidence</span>=<span style=\"color: #008080; text-decoration-color: #008080; font-weight: bold\">0.9</span> \n",
       "<span style=\"color: #808000; text-decoration-color: #808000\">explanation</span>=<span style=\"color: #008000; text-decoration-color: #008000\">'This release introduces significant changes through multiple Avalanche Community Proposals (ACPs) that</span>\n",
       "<span style=\"color: #008000; text-decoration-color: #008000\">alter the functionality of the network, particularly in how subnets operate and fee structures. The note that this </span>\n",
       "<span style=\"color: #008000; text-decoration-color: #008000\">version cannot run on mainnet indicates a clear separation from previous versions, which is characteristic of a </span>\n",
       "<span style=\"color: #008000; text-decoration-color: #008000\">hardfork. Additionally, the requirement for all Fuji nodes to upgrade before a specific date further supports the </span>\n",
       "<span style=\"color: #008000; text-decoration-color: #008000\">notion of a hardfork, as it implies that nodes running the previous version will not be compatible with the new </span>\n",
       "<span style=\"color: #008000; text-decoration-color: #008000\">version.'</span>\n",
       "</pre>\n"
      ],
      "text/plain": [
       "link: \u001b[4;94mhttps://github.com/ava-labs/avalanchego/releases/tag/v1.12.0-fuji,\u001b[0m hardfork: \u001b[33mhardfork\u001b[0m=\u001b[3;92mTrue\u001b[0m \u001b[33mconfidence\u001b[0m=\u001b[1;36m0\u001b[0m\u001b[1;36m.9\u001b[0m \n",
       "\u001b[33mexplanation\u001b[0m=\u001b[32m'This release introduces significant changes through multiple Avalanche Community Proposals \u001b[0m\u001b[32m(\u001b[0m\u001b[32mACPs\u001b[0m\u001b[32m)\u001b[0m\u001b[32m that\u001b[0m\n",
       "\u001b[32malter the functionality of the network, particularly in how subnets operate and fee structures. The note that this \u001b[0m\n",
       "\u001b[32mversion cannot run on mainnet indicates a clear separation from previous versions, which is characteristic of a \u001b[0m\n",
       "\u001b[32mhardfork. Additionally, the requirement for all Fuji nodes to upgrade before a specific date further supports the \u001b[0m\n",
       "\u001b[32mnotion of a hardfork, as it implies that nodes running the previous version will not be compatible with the new \u001b[0m\n",
       "\u001b[32mversion.'\u001b[0m\n"
      ]
     },
     "metadata": {},
     "output_type": "display_data"
    },
    {
     "data": {
      "text/html": [
       "<pre style=\"white-space:pre;overflow-x:auto;line-height:normal;font-family:Menlo,'DejaVu Sans Mono',consolas,'Courier New',monospace\">link: <span style=\"color: #0000ff; text-decoration-color: #0000ff; text-decoration: underline\">https://github.com/ava-labs/avalanchego/releases/tag/v1.11.13,</span> hardfork: <span style=\"color: #808000; text-decoration-color: #808000\">hardfork</span>=<span style=\"color: #ff0000; text-decoration-color: #ff0000; font-style: italic\">False</span> <span style=\"color: #808000; text-decoration-color: #808000\">confidence</span>=<span style=\"color: #008080; text-decoration-color: #008080; font-weight: bold\">0.9</span> \n",
       "<span style=\"color: #808000; text-decoration-color: #808000\">explanation</span>=<span style=\"color: #008000; text-decoration-color: #008000\">'The release notes indicate that version 1.11.13 is backwards compatible with version 1.11.0 and is </span>\n",
       "<span style=\"color: #008000; text-decoration-color: #008000\">described as optional but encouraged. This suggests that while there are new features and fixes, the core </span>\n",
       "<span style=\"color: #008000; text-decoration-color: #008000\">functionality remains intact and does not require users to upgrade to maintain compatibility. Therefore, it does </span>\n",
       "<span style=\"color: #008000; text-decoration-color: #008000\">not constitute a hard fork.'</span>\n",
       "</pre>\n"
      ],
      "text/plain": [
       "link: \u001b[4;94mhttps://github.com/ava-labs/avalanchego/releases/tag/v1.11.13,\u001b[0m hardfork: \u001b[33mhardfork\u001b[0m=\u001b[3;91mFalse\u001b[0m \u001b[33mconfidence\u001b[0m=\u001b[1;36m0\u001b[0m\u001b[1;36m.9\u001b[0m \n",
       "\u001b[33mexplanation\u001b[0m=\u001b[32m'The release notes indicate that version 1.11.13 is backwards compatible with version 1.11.0 and is \u001b[0m\n",
       "\u001b[32mdescribed as optional but encouraged. This suggests that while there are new features and fixes, the core \u001b[0m\n",
       "\u001b[32mfunctionality remains intact and does not require users to upgrade to maintain compatibility. Therefore, it does \u001b[0m\n",
       "\u001b[32mnot constitute a hard fork.'\u001b[0m\n"
      ]
     },
     "metadata": {},
     "output_type": "display_data"
    },
    {
     "data": {
      "text/html": [
       "<pre style=\"white-space:pre;overflow-x:auto;line-height:normal;font-family:Menlo,'DejaVu Sans Mono',consolas,'Courier New',monospace\">link: <span style=\"color: #0000ff; text-decoration-color: #0000ff; text-decoration: underline\">https://github.com/ava-labs/avalanchego/releases/tag/v1.11.13-rc.2,</span> hardfork: <span style=\"color: #808000; text-decoration-color: #808000\">hardfork</span>=<span style=\"color: #ff0000; text-decoration-color: #ff0000; font-style: italic\">False</span> <span style=\"color: #808000; text-decoration-color: #808000\">confidence</span>=<span style=\"color: #008080; text-decoration-color: #008080; font-weight: bold\">0.9</span> \n",
       "<span style=\"color: #808000; text-decoration-color: #808000\">explanation</span>=<span style=\"color: #008000; text-decoration-color: #008000\">\"The release notes indicate a merge of the 'master' branch into an update branch for version 1.11.13. </span>\n",
       "<span style=\"color: #008000; text-decoration-color: #008000\">This suggests that the changes are likely incremental updates or bug fixes rather than a significant change in </span>\n",
       "<span style=\"color: #008000; text-decoration-color: #008000\">protocol or consensus rules, which would typically characterize a hardfork.\"</span>\n",
       "</pre>\n"
      ],
      "text/plain": [
       "link: \u001b[4;94mhttps://github.com/ava-labs/avalanchego/releases/tag/v1.11.13-rc.2,\u001b[0m hardfork: \u001b[33mhardfork\u001b[0m=\u001b[3;91mFalse\u001b[0m \u001b[33mconfidence\u001b[0m=\u001b[1;36m0\u001b[0m\u001b[1;36m.9\u001b[0m \n",
       "\u001b[33mexplanation\u001b[0m=\u001b[32m\"The\u001b[0m\u001b[32m release notes indicate a merge of the 'master' branch into an update branch for version 1.11.13. \u001b[0m\n",
       "\u001b[32mThis suggests that the changes are likely incremental updates or bug fixes rather than a significant change in \u001b[0m\n",
       "\u001b[32mprotocol or consensus rules, which would typically characterize a hardfork.\"\u001b[0m\n"
      ]
     },
     "metadata": {},
     "output_type": "display_data"
    },
    {
     "data": {
      "text/html": [
       "<pre style=\"white-space:pre;overflow-x:auto;line-height:normal;font-family:Menlo,'DejaVu Sans Mono',consolas,'Courier New',monospace\">link: <span style=\"color: #0000ff; text-decoration-color: #0000ff; text-decoration: underline\">https://github.com/ava-labs/avalanchego/releases/tag/v1.11.13-rc.1,</span> hardfork: <span style=\"color: #808000; text-decoration-color: #808000\">hardfork</span>=<span style=\"color: #ff0000; text-decoration-color: #ff0000; font-style: italic\">False</span> <span style=\"color: #808000; text-decoration-color: #808000\">confidence</span>=<span style=\"color: #008080; text-decoration-color: #008080; font-weight: bold\">0.9</span> \n",
       "<span style=\"color: #808000; text-decoration-color: #808000\">explanation</span>=<span style=\"color: #008000; text-decoration-color: #008000\">\"The release notes indicate an update to 'coreth', which typically refers to improvements or bug fixes </span>\n",
       "<span style=\"color: #008000; text-decoration-color: #008000\">rather than a significant change in the protocol that would necessitate a hardfork. Hardforks usually involve </span>\n",
       "<span style=\"color: #008000; text-decoration-color: #008000\">changes that are not backward compatible, while this appears to be a routine update.\"</span>\n",
       "</pre>\n"
      ],
      "text/plain": [
       "link: \u001b[4;94mhttps://github.com/ava-labs/avalanchego/releases/tag/v1.11.13-rc.1,\u001b[0m hardfork: \u001b[33mhardfork\u001b[0m=\u001b[3;91mFalse\u001b[0m \u001b[33mconfidence\u001b[0m=\u001b[1;36m0\u001b[0m\u001b[1;36m.9\u001b[0m \n",
       "\u001b[33mexplanation\u001b[0m=\u001b[32m\"The\u001b[0m\u001b[32m release notes indicate an update to 'coreth', which typically refers to improvements or bug fixes \u001b[0m\n",
       "\u001b[32mrather than a significant change in the protocol that would necessitate a hardfork. Hardforks usually involve \u001b[0m\n",
       "\u001b[32mchanges that are not backward compatible, while this appears to be a routine update.\"\u001b[0m\n"
      ]
     },
     "metadata": {},
     "output_type": "display_data"
    },
    {
     "data": {
      "text/html": [
       "<pre style=\"white-space:pre;overflow-x:auto;line-height:normal;font-family:Menlo,'DejaVu Sans Mono',consolas,'Courier New',monospace\">link: <span style=\"color: #0000ff; text-decoration-color: #0000ff; text-decoration: underline\">https://github.com/ava-labs/avalanchego/releases/tag/v1.11.13-rc.0,</span> hardfork: <span style=\"color: #808000; text-decoration-color: #808000\">hardfork</span>=<span style=\"color: #ff0000; text-decoration-color: #ff0000; font-style: italic\">False</span> <span style=\"color: #808000; text-decoration-color: #808000\">confidence</span>=<span style=\"color: #008080; text-decoration-color: #008080; font-weight: bold\">0.9</span> \n",
       "<span style=\"color: #808000; text-decoration-color: #808000\">explanation</span>=<span style=\"color: #008000; text-decoration-color: #008000\">'The release notes for version v1.11.13-rc.0 indicate the addition of an optional flag to a function, </span>\n",
       "<span style=\"color: #008000; text-decoration-color: #008000\">which typically suggests a backward-compatible change rather than a hardfork. Hardforks usually involve changes </span>\n",
       "<span style=\"color: #008000; text-decoration-color: #008000\">that are not compatible with previous versions, such as altering consensus rules or transaction formats, which is </span>\n",
       "<span style=\"color: #008000; text-decoration-color: #008000\">not the case here.'</span>\n",
       "</pre>\n"
      ],
      "text/plain": [
       "link: \u001b[4;94mhttps://github.com/ava-labs/avalanchego/releases/tag/v1.11.13-rc.0,\u001b[0m hardfork: \u001b[33mhardfork\u001b[0m=\u001b[3;91mFalse\u001b[0m \u001b[33mconfidence\u001b[0m=\u001b[1;36m0\u001b[0m\u001b[1;36m.9\u001b[0m \n",
       "\u001b[33mexplanation\u001b[0m=\u001b[32m'The release notes for version v1.11.13-rc.0 indicate the addition of an optional flag to a function, \u001b[0m\n",
       "\u001b[32mwhich typically suggests a backward-compatible change rather than a hardfork. Hardforks usually involve changes \u001b[0m\n",
       "\u001b[32mthat are not compatible with previous versions, such as altering consensus rules or transaction formats, which is \u001b[0m\n",
       "\u001b[32mnot the case here.'\u001b[0m\n"
      ]
     },
     "metadata": {},
     "output_type": "display_data"
    },
    {
     "data": {
      "text/html": [
       "<pre style=\"white-space:pre;overflow-x:auto;line-height:normal;font-family:Menlo,'DejaVu Sans Mono',consolas,'Courier New',monospace\">link: <span style=\"color: #0000ff; text-decoration-color: #0000ff; text-decoration: underline\">https://github.com/ava-labs/avalanchego/releases/tag/v1.12.0-initial-poc.9,</span> hardfork: <span style=\"color: #808000; text-decoration-color: #808000\">hardfork</span>=<span style=\"color: #ff0000; text-decoration-color: #ff0000; font-style: italic\">False</span> \n",
       "<span style=\"color: #808000; text-decoration-color: #808000\">confidence</span>=<span style=\"color: #008080; text-decoration-color: #008080; font-weight: bold\">0.9</span> <span style=\"color: #808000; text-decoration-color: #808000\">explanation</span>=<span style=\"color: #008000; text-decoration-color: #008000\">'The release notes for version v1.12.0-initial-poc.9 indicate the addition of metrics </span>\n",
       "<span style=\"color: #008000; text-decoration-color: #008000\">for the Etna P-chain, which suggests improvements or enhancements rather than fundamental changes to the protocol </span>\n",
       "<span style=\"color: #008000; text-decoration-color: #008000\">that would necessitate a hardfork. A hardfork typically involves changes that are not backward compatible, while </span>\n",
       "<span style=\"color: #008000; text-decoration-color: #008000\">this update appears to be an incremental improvement.'</span>\n",
       "</pre>\n"
      ],
      "text/plain": [
       "link: \u001b[4;94mhttps://github.com/ava-labs/avalanchego/releases/tag/v1.12.0-initial-poc.9,\u001b[0m hardfork: \u001b[33mhardfork\u001b[0m=\u001b[3;91mFalse\u001b[0m \n",
       "\u001b[33mconfidence\u001b[0m=\u001b[1;36m0\u001b[0m\u001b[1;36m.9\u001b[0m \u001b[33mexplanation\u001b[0m=\u001b[32m'The release notes for version v1.12.0-initial-poc.9 indicate the addition of metrics \u001b[0m\n",
       "\u001b[32mfor the Etna P-chain, which suggests improvements or enhancements rather than fundamental changes to the protocol \u001b[0m\n",
       "\u001b[32mthat would necessitate a hardfork. A hardfork typically involves changes that are not backward compatible, while \u001b[0m\n",
       "\u001b[32mthis update appears to be an incremental improvement.'\u001b[0m\n"
      ]
     },
     "metadata": {},
     "output_type": "display_data"
    },
    {
     "data": {
      "text/html": [
       "<pre style=\"white-space:pre;overflow-x:auto;line-height:normal;font-family:Menlo,'DejaVu Sans Mono',consolas,'Courier New',monospace\">link: <span style=\"color: #0000ff; text-decoration-color: #0000ff; text-decoration: underline\">https://github.com/ava-labs/avalanchego/releases/tag/v1.12.0-initial-poc.8,</span> hardfork: <span style=\"color: #808000; text-decoration-color: #808000\">hardfork</span>=<span style=\"color: #ff0000; text-decoration-color: #ff0000; font-style: italic\">False</span> \n",
       "<span style=\"color: #808000; text-decoration-color: #808000\">confidence</span>=<span style=\"color: #008080; text-decoration-color: #008080; font-weight: bold\">0.9</span> <span style=\"color: #808000; text-decoration-color: #808000\">explanation</span>=<span style=\"color: #008000; text-decoration-color: #008000\">'The release notes indicate a merge of branches related to logging and metrics, which </span>\n",
       "<span style=\"color: #008000; text-decoration-color: #008000\">typically suggests improvements or enhancements rather than fundamental changes to the protocol or consensus </span>\n",
       "<span style=\"color: #008000; text-decoration-color: #008000\">mechanism. A hardfork usually involves significant changes that require a split in the blockchain, while this </span>\n",
       "<span style=\"color: #008000; text-decoration-color: #008000\">appears to be a standard update or enhancement.'</span>\n",
       "</pre>\n"
      ],
      "text/plain": [
       "link: \u001b[4;94mhttps://github.com/ava-labs/avalanchego/releases/tag/v1.12.0-initial-poc.8,\u001b[0m hardfork: \u001b[33mhardfork\u001b[0m=\u001b[3;91mFalse\u001b[0m \n",
       "\u001b[33mconfidence\u001b[0m=\u001b[1;36m0\u001b[0m\u001b[1;36m.9\u001b[0m \u001b[33mexplanation\u001b[0m=\u001b[32m'The release notes indicate a merge of branches related to logging and metrics, which \u001b[0m\n",
       "\u001b[32mtypically suggests improvements or enhancements rather than fundamental changes to the protocol or consensus \u001b[0m\n",
       "\u001b[32mmechanism. A hardfork usually involves significant changes that require a split in the blockchain, while this \u001b[0m\n",
       "\u001b[32mappears to be a standard update or enhancement.'\u001b[0m\n"
      ]
     },
     "metadata": {},
     "output_type": "display_data"
    },
    {
     "data": {
      "text/html": [
       "<pre style=\"white-space:pre;overflow-x:auto;line-height:normal;font-family:Menlo,'DejaVu Sans Mono',consolas,'Courier New',monospace\">link: <span style=\"color: #0000ff; text-decoration-color: #0000ff; text-decoration: underline\">https://github.com/ava-labs/avalanchego/releases/tag/v1.12.0-initial-poc.7,</span> hardfork: <span style=\"color: #808000; text-decoration-color: #808000\">hardfork</span>=<span style=\"color: #00ff00; text-decoration-color: #00ff00; font-style: italic\">True</span> \n",
       "<span style=\"color: #808000; text-decoration-color: #808000\">confidence</span>=<span style=\"color: #008080; text-decoration-color: #008080; font-weight: bold\">0.85</span> <span style=\"color: #808000; text-decoration-color: #808000\">explanation</span>=<span style=\"color: #008000; text-decoration-color: #008000\">\"The release 'v1.12.0-initial-poc.7' indicates a significant update to the AvalancheGo </span>\n",
       "<span style=\"color: #008000; text-decoration-color: #008000\">project, which often includes changes that could affect the consensus mechanism or protocol rules. Given that it is</span>\n",
       "<span style=\"color: #008000; text-decoration-color: #008000\">labeled as an 'initial proof of concept' (poc), it suggests that this version may introduce new features or changes</span>\n",
       "<span style=\"color: #008000; text-decoration-color: #008000\">that could lead to a divergence in the blockchain, characteristic of a hardfork.\"</span>\n",
       "</pre>\n"
      ],
      "text/plain": [
       "link: \u001b[4;94mhttps://github.com/ava-labs/avalanchego/releases/tag/v1.12.0-initial-poc.7,\u001b[0m hardfork: \u001b[33mhardfork\u001b[0m=\u001b[3;92mTrue\u001b[0m \n",
       "\u001b[33mconfidence\u001b[0m=\u001b[1;36m0\u001b[0m\u001b[1;36m.85\u001b[0m \u001b[33mexplanation\u001b[0m=\u001b[32m\"The\u001b[0m\u001b[32m release 'v1.12.0-initial-poc.7' indicates a significant update to the AvalancheGo \u001b[0m\n",
       "\u001b[32mproject, which often includes changes that could affect the consensus mechanism or protocol rules. Given that it is\u001b[0m\n",
       "\u001b[32mlabeled as an 'initial proof of concept' \u001b[0m\u001b[32m(\u001b[0m\u001b[32mpoc\u001b[0m\u001b[32m)\u001b[0m\u001b[32m, it suggests that this version may introduce new features or changes\u001b[0m\n",
       "\u001b[32mthat could lead to a divergence in the blockchain, characteristic of a hardfork.\"\u001b[0m\n"
      ]
     },
     "metadata": {},
     "output_type": "display_data"
    },
    {
     "data": {
      "text/html": [
       "<pre style=\"white-space:pre;overflow-x:auto;line-height:normal;font-family:Menlo,'DejaVu Sans Mono',consolas,'Courier New',monospace\">link: <span style=\"color: #0000ff; text-decoration-color: #0000ff; text-decoration: underline\">https://github.com/ava-labs/avalanchego/releases/tag/v1.12.0-initial-poc.6,</span> hardfork: <span style=\"color: #808000; text-decoration-color: #808000\">hardfork</span>=<span style=\"color: #ff0000; text-decoration-color: #ff0000; font-style: italic\">False</span> \n",
       "<span style=\"color: #808000; text-decoration-color: #808000\">confidence</span>=<span style=\"color: #008080; text-decoration-color: #008080; font-weight: bold\">0.9</span> <span style=\"color: #808000; text-decoration-color: #808000\">explanation</span>=<span style=\"color: #008000; text-decoration-color: #008000\">'The release notes indicate a merge of branches related to logging and metrics, which </span>\n",
       "<span style=\"color: #008000; text-decoration-color: #008000\">typically suggests improvements or feature additions rather than a fundamental change to the protocol or consensus </span>\n",
       "<span style=\"color: #008000; text-decoration-color: #008000\">mechanism. A hardfork usually involves significant changes that are not backward compatible, while this appears to </span>\n",
       "<span style=\"color: #008000; text-decoration-color: #008000\">be a standard update.'</span>\n",
       "</pre>\n"
      ],
      "text/plain": [
       "link: \u001b[4;94mhttps://github.com/ava-labs/avalanchego/releases/tag/v1.12.0-initial-poc.6,\u001b[0m hardfork: \u001b[33mhardfork\u001b[0m=\u001b[3;91mFalse\u001b[0m \n",
       "\u001b[33mconfidence\u001b[0m=\u001b[1;36m0\u001b[0m\u001b[1;36m.9\u001b[0m \u001b[33mexplanation\u001b[0m=\u001b[32m'The release notes indicate a merge of branches related to logging and metrics, which \u001b[0m\n",
       "\u001b[32mtypically suggests improvements or feature additions rather than a fundamental change to the protocol or consensus \u001b[0m\n",
       "\u001b[32mmechanism. A hardfork usually involves significant changes that are not backward compatible, while this appears to \u001b[0m\n",
       "\u001b[32mbe a standard update.'\u001b[0m\n"
      ]
     },
     "metadata": {},
     "output_type": "display_data"
    },
    {
     "data": {
      "text/html": [
       "<pre style=\"white-space:pre;overflow-x:auto;line-height:normal;font-family:Menlo,'DejaVu Sans Mono',consolas,'Courier New',monospace\">link: <span style=\"color: #0000ff; text-decoration-color: #0000ff; text-decoration: underline\">https://github.com/ava-labs/avalanchego/releases/tag/v1.11.12,</span> hardfork: <span style=\"color: #808000; text-decoration-color: #808000\">hardfork</span>=<span style=\"color: #ff0000; text-decoration-color: #ff0000; font-style: italic\">False</span> <span style=\"color: #808000; text-decoration-color: #808000\">confidence</span>=<span style=\"color: #008080; text-decoration-color: #008080; font-weight: bold\">0.9</span> \n",
       "<span style=\"color: #808000; text-decoration-color: #808000\">explanation</span>=<span style=\"color: #008000; text-decoration-color: #008000\">'The release notes indicate that version 1.11.12 is backwards compatible with version 1.11.0 and is </span>\n",
       "<span style=\"color: #008000; text-decoration-color: #008000\">optional but strongly encouraged. This suggests that the changes made do not introduce breaking changes that would </span>\n",
       "<span style=\"color: #008000; text-decoration-color: #008000\">require users to upgrade to the new version to maintain compatibility. Therefore, it is not classified as a </span>\n",
       "<span style=\"color: #008000; text-decoration-color: #008000\">hardfork.'</span>\n",
       "</pre>\n"
      ],
      "text/plain": [
       "link: \u001b[4;94mhttps://github.com/ava-labs/avalanchego/releases/tag/v1.11.12,\u001b[0m hardfork: \u001b[33mhardfork\u001b[0m=\u001b[3;91mFalse\u001b[0m \u001b[33mconfidence\u001b[0m=\u001b[1;36m0\u001b[0m\u001b[1;36m.9\u001b[0m \n",
       "\u001b[33mexplanation\u001b[0m=\u001b[32m'The release notes indicate that version 1.11.12 is backwards compatible with version 1.11.0 and is \u001b[0m\n",
       "\u001b[32moptional but strongly encouraged. This suggests that the changes made do not introduce breaking changes that would \u001b[0m\n",
       "\u001b[32mrequire users to upgrade to the new version to maintain compatibility. Therefore, it is not classified as a \u001b[0m\n",
       "\u001b[32mhardfork.'\u001b[0m\n"
      ]
     },
     "metadata": {},
     "output_type": "display_data"
    }
   ],
   "source": [
    "max_length = 5000\n",
    "model = \"gpt-4o-mini\"\n",
    "temperature = 0\n",
    "max_tokens = 1000\n",
    "\n",
    "\n",
    "class Hardfork(BaseModel):\n",
    "    hardfork: bool = Field(..., description=\"Whether this is a hardfork\")\n",
    "    confidence: float = Field(..., description=\"Confidence in the prediction, between 0 and 1\")\n",
    "    explanation: str = Field(..., description=\"Explanation why this is a hardfork or not\")\n",
    "\n",
    "\n",
    "def predict_hardfork(text: str) -> Hardfork:\n",
    "    client = OpenAI()\n",
    "    response = client.beta.chat.completions.parse(\n",
    "        messages=[\n",
    "            {\"role\": \"user\", \"content\": text},\n",
    "        ],\n",
    "        model=model,\n",
    "        temperature=temperature,\n",
    "        max_tokens=max_tokens,\n",
    "        response_format=Hardfork,\n",
    "    )\n",
    "\n",
    "    if not response.choices:\n",
    "        return Hardfork(hardfork=False, confidence=0)\n",
    "\n",
    "    return response.choices[0].message.parsed\n",
    "\n",
    "\n",
    "for entry in rss[\"entries\"]:\n",
    "    text = str(entry)\n",
    "    hf = predict_hardfork(text)\n",
    "\n",
    "    link = entry[\"link\"]\n",
    "    print(f\"link: {link}, hardfork: {hf}\")"
   ]
  }
 ],
 "metadata": {
  "kernelspec": {
   "display_name": ".venv",
   "language": "python",
   "name": "python3"
  },
  "language_info": {
   "codemirror_mode": {
    "name": "ipython",
    "version": 3
   },
   "file_extension": ".py",
   "mimetype": "text/x-python",
   "name": "python",
   "nbconvert_exporter": "python",
   "pygments_lexer": "ipython3",
   "version": "3.11.10"
  }
 },
 "nbformat": 4,
 "nbformat_minor": 2
}
