{
 "cells": [
  {
   "cell_type": "code",
   "execution_count": null,
   "metadata": {},
   "outputs": [],
   "source": [
    "import feedparser\n",
    "import httpx\n",
    "from dotenv import load_dotenv\n",
    "from openai import OpenAI\n",
    "from pydantic import BaseModel\n",
    "from pydantic import Field\n",
    "from rich import print"
   ]
  },
  {
   "cell_type": "code",
   "execution_count": 2,
   "metadata": {},
   "outputs": [
    {
     "data": {
      "text/plain": [
       "True"
      ]
     },
     "execution_count": 2,
     "metadata": {},
     "output_type": "execute_result"
    }
   ],
   "source": [
    "load_dotenv()"
   ]
  },
  {
   "cell_type": "code",
   "execution_count": 5,
   "metadata": {},
   "outputs": [
    {
     "data": {
      "text/html": [
       "<pre style=\"white-space:pre;overflow-x:auto;line-height:normal;font-family:Menlo,'DejaVu Sans Mono',consolas,'Courier New',monospace\">id: tag:github.com,<span style=\"color: #008080; text-decoration-color: #008080; font-weight: bold\">2008</span>:Repository/<span style=\"color: #008080; text-decoration-color: #008080; font-weight: bold\">246387644</span>/v1.<span style=\"color: #008080; text-decoration-color: #008080; font-weight: bold\">12.0</span>-fuji<span style=\"color: #808000; text-decoration-color: #808000\">...</span>\n",
       "</pre>\n"
      ],
      "text/plain": [
       "id: tag:github.com,\u001b[1;36m2008\u001b[0m:Repository/\u001b[1;36m246387644\u001b[0m/v1.\u001b[1;36m12.0\u001b[0m-fuji\u001b[33m...\u001b[0m\n"
      ]
     },
     "metadata": {},
     "output_type": "display_data"
    },
    {
     "data": {
      "text/html": [
       "<pre style=\"white-space:pre;overflow-x:auto;line-height:normal;font-family:Menlo,'DejaVu Sans Mono',consolas,'Courier New',monospace\">guidislink: <span style=\"color: #00ff00; text-decoration-color: #00ff00; font-style: italic\">True</span><span style=\"color: #808000; text-decoration-color: #808000\">...</span>\n",
       "</pre>\n"
      ],
      "text/plain": [
       "guidislink: \u001b[3;92mTrue\u001b[0m\u001b[33m...\u001b[0m\n"
      ]
     },
     "metadata": {},
     "output_type": "display_data"
    },
    {
     "data": {
      "text/html": [
       "<pre style=\"white-space:pre;overflow-x:auto;line-height:normal;font-family:Menlo,'DejaVu Sans Mono',consolas,'Courier New',monospace\">link: <span style=\"color: #0000ff; text-decoration-color: #0000ff; text-decoration: underline\">https://github.com/ava-labs/avalanchego/releases/tag/v1.12.0-fuji...</span>\n",
       "</pre>\n"
      ],
      "text/plain": [
       "link: \u001b[4;94mhttps://github.com/ava-labs/avalanchego/releases/tag/v1.12.0-fuji...\u001b[0m\n"
      ]
     },
     "metadata": {},
     "output_type": "display_data"
    },
    {
     "data": {
      "text/html": [
       "<pre style=\"white-space:pre;overflow-x:auto;line-height:normal;font-family:Menlo,'DejaVu Sans Mono',consolas,'Courier New',monospace\">updated: <span style=\"color: #008080; text-decoration-color: #008080; font-weight: bold\">2024</span>-<span style=\"color: #008080; text-decoration-color: #008080; font-weight: bold\">11</span>-19T<span style=\"color: #00ff00; text-decoration-color: #00ff00; font-weight: bold\">02:31:48</span>Z<span style=\"color: #808000; text-decoration-color: #808000\">...</span>\n",
       "</pre>\n"
      ],
      "text/plain": [
       "updated: \u001b[1;36m2024\u001b[0m-\u001b[1;36m11\u001b[0m-19T\u001b[1;92m02:31:48\u001b[0mZ\u001b[33m...\u001b[0m\n"
      ]
     },
     "metadata": {},
     "output_type": "display_data"
    },
    {
     "data": {
      "text/html": [
       "<pre style=\"white-space:pre;overflow-x:auto;line-height:normal;font-family:Menlo,'DejaVu Sans Mono',consolas,'Courier New',monospace\">updated_parsed: <span style=\"color: #800080; text-decoration-color: #800080; font-weight: bold\">time.struct_time</span><span style=\"font-weight: bold\">(</span><span style=\"color: #808000; text-decoration-color: #808000\">tm_year</span>=<span style=\"color: #008080; text-decoration-color: #008080; font-weight: bold\">2024</span>, <span style=\"color: #808000; text-decoration-color: #808000\">tm_mon</span>=<span style=\"color: #008080; text-decoration-color: #008080; font-weight: bold\">11</span>, <span style=\"color: #808000; text-decoration-color: #808000\">tm_mday</span>=<span style=\"color: #008080; text-decoration-color: #008080; font-weight: bold\">19</span>, <span style=\"color: #808000; text-decoration-color: #808000\">tm_hour</span>=<span style=\"color: #008080; text-decoration-color: #008080; font-weight: bold\">2</span>, <span style=\"color: #808000; text-decoration-color: #808000\">tm_min</span>=<span style=\"color: #008080; text-decoration-color: #008080; font-weight: bold\">31</span>, <span style=\"color: #808000; text-decoration-color: #808000\">tm_sec</span>=<span style=\"color: #008080; text-decoration-color: #008080; font-weight: bold\">48</span>, <span style=\"color: #808000; text-decoration-color: #808000\">tm_wday</span>=<span style=\"color: #008080; text-decoration-color: #008080; font-weight: bold\">1</span>, \n",
       "tm<span style=\"color: #808000; text-decoration-color: #808000\">...</span>\n",
       "</pre>\n"
      ],
      "text/plain": [
       "updated_parsed: \u001b[1;35mtime.struct_time\u001b[0m\u001b[1m(\u001b[0m\u001b[33mtm_year\u001b[0m=\u001b[1;36m2024\u001b[0m, \u001b[33mtm_mon\u001b[0m=\u001b[1;36m11\u001b[0m, \u001b[33mtm_mday\u001b[0m=\u001b[1;36m19\u001b[0m, \u001b[33mtm_hour\u001b[0m=\u001b[1;36m2\u001b[0m, \u001b[33mtm_min\u001b[0m=\u001b[1;36m31\u001b[0m, \u001b[33mtm_sec\u001b[0m=\u001b[1;36m48\u001b[0m, \u001b[33mtm_wday\u001b[0m=\u001b[1;36m1\u001b[0m, \n",
       "tm\u001b[33m...\u001b[0m\n"
      ]
     },
     "metadata": {},
     "output_type": "display_data"
    },
    {
     "data": {
      "text/html": [
       "<pre style=\"white-space:pre;overflow-x:auto;line-height:normal;font-family:Menlo,'DejaVu Sans Mono',consolas,'Courier New',monospace\">links: <span style=\"font-weight: bold\">[{</span><span style=\"color: #008000; text-decoration-color: #008000\">'rel'</span>: <span style=\"color: #008000; text-decoration-color: #008000\">'alternate'</span>, <span style=\"color: #008000; text-decoration-color: #008000\">'type'</span>: <span style=\"color: #008000; text-decoration-color: #008000\">'text/html'</span>, <span style=\"color: #008000; text-decoration-color: #008000\">'href'</span>: '<span style=\"color: #0000ff; text-decoration-color: #0000ff; text-decoration: underline\">https://github.com/ava-labs/avalanchego/releases...</span>\n",
       "</pre>\n"
      ],
      "text/plain": [
       "links: \u001b[1m[\u001b[0m\u001b[1m{\u001b[0m\u001b[32m'rel'\u001b[0m: \u001b[32m'alternate'\u001b[0m, \u001b[32m'type'\u001b[0m: \u001b[32m'text/html'\u001b[0m, \u001b[32m'href'\u001b[0m: '\u001b[4;94mhttps://github.com/ava-labs/avalanchego/releases...\u001b[0m\n"
      ]
     },
     "metadata": {},
     "output_type": "display_data"
    },
    {
     "data": {
      "text/html": [
       "<pre style=\"white-space:pre;overflow-x:auto;line-height:normal;font-family:Menlo,'DejaVu Sans Mono',consolas,'Courier New',monospace\">title: Etna - Reinventing Subnets - Fuji Pre-Release<span style=\"color: #808000; text-decoration-color: #808000\">...</span>\n",
       "</pre>\n"
      ],
      "text/plain": [
       "title: Etna - Reinventing Subnets - Fuji Pre-Release\u001b[33m...\u001b[0m\n"
      ]
     },
     "metadata": {},
     "output_type": "display_data"
    },
    {
     "data": {
      "text/html": [
       "<pre style=\"white-space:pre;overflow-x:auto;line-height:normal;font-family:Menlo,'DejaVu Sans Mono',consolas,'Courier New',monospace\">title_detail: <span style=\"font-weight: bold\">{</span><span style=\"color: #008000; text-decoration-color: #008000\">'type'</span>: <span style=\"color: #008000; text-decoration-color: #008000\">'text/plain'</span>, <span style=\"color: #008000; text-decoration-color: #008000\">'language'</span>: <span style=\"color: #008000; text-decoration-color: #008000\">'en-US'</span>, <span style=\"color: #008000; text-decoration-color: #008000\">'base'</span>: <span style=\"color: #008000; text-decoration-color: #008000\">''</span>, <span style=\"color: #008000; text-decoration-color: #008000\">'value'</span>: 'Etna - Reinventing Subnets - Fuji \n",
       "<span style=\"color: #808000; text-decoration-color: #808000\">...</span>\n",
       "</pre>\n"
      ],
      "text/plain": [
       "title_detail: \u001b[1m{\u001b[0m\u001b[32m'type'\u001b[0m: \u001b[32m'text/plain'\u001b[0m, \u001b[32m'language'\u001b[0m: \u001b[32m'en-US'\u001b[0m, \u001b[32m'base'\u001b[0m: \u001b[32m''\u001b[0m, \u001b[32m'value'\u001b[0m: 'Etna - Reinventing Subnets - Fuji \n",
       "\u001b[33m...\u001b[0m\n"
      ]
     },
     "metadata": {},
     "output_type": "display_data"
    },
    {
     "data": {
      "text/html": [
       "<pre style=\"white-space:pre;overflow-x:auto;line-height:normal;font-family:Menlo,'DejaVu Sans Mono',consolas,'Courier New',monospace\">content: <span style=\"font-weight: bold\">[{</span><span style=\"color: #008000; text-decoration-color: #008000\">'type'</span>: <span style=\"color: #008000; text-decoration-color: #008000\">'text/html'</span>, <span style=\"color: #008000; text-decoration-color: #008000\">'language'</span>: <span style=\"color: #008000; text-decoration-color: #008000\">'en-US'</span>, <span style=\"color: #008000; text-decoration-color: #008000\">'base'</span>: <span style=\"color: #008000; text-decoration-color: #008000\">''</span>, <span style=\"color: #008000; text-decoration-color: #008000\">'value'</span>: '<span style=\"font-weight: bold\">&lt;</span><span style=\"color: #ff00ff; text-decoration-color: #ff00ff; font-weight: bold\">p</span><span style=\"color: #000000; text-decoration-color: #000000\">&gt;&lt;strong</span><span style=\"font-weight: bold\">&gt;</span>Please note that this r<span style=\"color: #808000; text-decoration-color: #808000\">...</span>\n",
       "</pre>\n"
      ],
      "text/plain": [
       "content: \u001b[1m[\u001b[0m\u001b[1m{\u001b[0m\u001b[32m'type'\u001b[0m: \u001b[32m'text/html'\u001b[0m, \u001b[32m'language'\u001b[0m: \u001b[32m'en-US'\u001b[0m, \u001b[32m'base'\u001b[0m: \u001b[32m''\u001b[0m, \u001b[32m'value'\u001b[0m: '\u001b[1m<\u001b[0m\u001b[1;95mp\u001b[0m\u001b[39m><strong\u001b[0m\u001b[1m>\u001b[0mPlease note that this r\u001b[33m...\u001b[0m\n"
      ]
     },
     "metadata": {},
     "output_type": "display_data"
    },
    {
     "data": {
      "text/html": [
       "<pre style=\"white-space:pre;overflow-x:auto;line-height:normal;font-family:Menlo,'DejaVu Sans Mono',consolas,'Courier New',monospace\">summary: <span style=\"font-weight: bold\">&lt;</span><span style=\"color: #ff00ff; text-decoration-color: #ff00ff; font-weight: bold\">p</span><span style=\"color: #000000; text-decoration-color: #000000\">&gt;&lt;strong</span><span style=\"font-weight: bold\">&gt;</span>Please note that this release is unable to run mainnet - and will display \"mainnet is not<span style=\"color: #808000; text-decoration-color: #808000\">...</span>\n",
       "</pre>\n"
      ],
      "text/plain": [
       "summary: \u001b[1m<\u001b[0m\u001b[1;95mp\u001b[0m\u001b[39m><strong\u001b[0m\u001b[1m>\u001b[0mPlease note that this release is unable to run mainnet - and will display \"mainnet is not\u001b[33m...\u001b[0m\n"
      ]
     },
     "metadata": {},
     "output_type": "display_data"
    },
    {
     "data": {
      "text/html": [
       "<pre style=\"white-space:pre;overflow-x:auto;line-height:normal;font-family:Menlo,'DejaVu Sans Mono',consolas,'Courier New',monospace\">authors: <span style=\"font-weight: bold\">[{</span><span style=\"color: #008000; text-decoration-color: #008000\">'name'</span>: <span style=\"color: #008000; text-decoration-color: #008000\">'StephenButtolph'</span><span style=\"font-weight: bold\">}]</span><span style=\"color: #808000; text-decoration-color: #808000\">...</span>\n",
       "</pre>\n"
      ],
      "text/plain": [
       "authors: \u001b[1m[\u001b[0m\u001b[1m{\u001b[0m\u001b[32m'name'\u001b[0m: \u001b[32m'StephenButtolph'\u001b[0m\u001b[1m}\u001b[0m\u001b[1m]\u001b[0m\u001b[33m...\u001b[0m\n"
      ]
     },
     "metadata": {},
     "output_type": "display_data"
    },
    {
     "data": {
      "text/html": [
       "<pre style=\"white-space:pre;overflow-x:auto;line-height:normal;font-family:Menlo,'DejaVu Sans Mono',consolas,'Courier New',monospace\">author_detail: <span style=\"font-weight: bold\">{</span><span style=\"color: #008000; text-decoration-color: #008000\">'name'</span>: <span style=\"color: #008000; text-decoration-color: #008000\">'StephenButtolph'</span><span style=\"font-weight: bold\">}</span><span style=\"color: #808000; text-decoration-color: #808000\">...</span>\n",
       "</pre>\n"
      ],
      "text/plain": [
       "author_detail: \u001b[1m{\u001b[0m\u001b[32m'name'\u001b[0m: \u001b[32m'StephenButtolph'\u001b[0m\u001b[1m}\u001b[0m\u001b[33m...\u001b[0m\n"
      ]
     },
     "metadata": {},
     "output_type": "display_data"
    },
    {
     "data": {
      "text/html": [
       "<pre style=\"white-space:pre;overflow-x:auto;line-height:normal;font-family:Menlo,'DejaVu Sans Mono',consolas,'Courier New',monospace\">author: StephenButtolph<span style=\"color: #808000; text-decoration-color: #808000\">...</span>\n",
       "</pre>\n"
      ],
      "text/plain": [
       "author: StephenButtolph\u001b[33m...\u001b[0m\n"
      ]
     },
     "metadata": {},
     "output_type": "display_data"
    },
    {
     "data": {
      "text/html": [
       "<pre style=\"white-space:pre;overflow-x:auto;line-height:normal;font-family:Menlo,'DejaVu Sans Mono',consolas,'Courier New',monospace\">media_thumbnail: <span style=\"font-weight: bold\">[{</span><span style=\"color: #008000; text-decoration-color: #008000\">'height'</span>: <span style=\"color: #008000; text-decoration-color: #008000\">'30'</span>, <span style=\"color: #008000; text-decoration-color: #008000\">'width'</span>: <span style=\"color: #008000; text-decoration-color: #008000\">'30'</span>, <span style=\"color: #008000; text-decoration-color: #008000\">'url'</span>: \n",
       "<span style=\"color: #008000; text-decoration-color: #008000\">'https://avatars.githubusercontent.com/u/22109487?s=60&amp;v=4'</span><span style=\"font-weight: bold\">}</span><span style=\"color: #808000; text-decoration-color: #808000\">...</span>\n",
       "</pre>\n"
      ],
      "text/plain": [
       "media_thumbnail: \u001b[1m[\u001b[0m\u001b[1m{\u001b[0m\u001b[32m'height'\u001b[0m: \u001b[32m'30'\u001b[0m, \u001b[32m'width'\u001b[0m: \u001b[32m'30'\u001b[0m, \u001b[32m'url'\u001b[0m: \n",
       "\u001b[32m'https://avatars.githubusercontent.com/u/22109487?\u001b[0m\u001b[32ms\u001b[0m\u001b[32m=\u001b[0m\u001b[32m60\u001b[0m\u001b[32m&\u001b[0m\u001b[32mv\u001b[0m\u001b[32m=\u001b[0m\u001b[32m4\u001b[0m\u001b[32m'\u001b[0m\u001b[1m}\u001b[0m\u001b[33m...\u001b[0m\n"
      ]
     },
     "metadata": {},
     "output_type": "display_data"
    },
    {
     "data": {
      "text/html": [
       "<pre style=\"white-space:pre;overflow-x:auto;line-height:normal;font-family:Menlo,'DejaVu Sans Mono',consolas,'Courier New',monospace\">href: <span style=\"color: #808000; text-decoration-color: #808000\">...</span>\n",
       "</pre>\n"
      ],
      "text/plain": [
       "href: \u001b[33m...\u001b[0m\n"
      ]
     },
     "metadata": {},
     "output_type": "display_data"
    }
   ],
   "source": [
    "url = \"https://github.com/ava-labs/avalanchego/releases.atom\"\n",
    "\n",
    "resp = httpx.get(url)\n",
    "resp.raise_for_status()\n",
    "\n",
    "\n",
    "rss = feedparser.parse(resp.text)\n",
    "for entry in rss[\"entries\"]:\n",
    "    for k, v in entry.items():\n",
    "        print(f\"{k}: {str(v)[:100]}...\")\n",
    "    break"
   ]
  },
  {
   "cell_type": "code",
   "execution_count": null,
   "metadata": {},
   "outputs": [
    {
     "data": {
      "text/html": [
       "<pre style=\"white-space:pre;overflow-x:auto;line-height:normal;font-family:Menlo,'DejaVu Sans Mono',consolas,'Courier New',monospace\">link: <span style=\"color: #0000ff; text-decoration-color: #0000ff; text-decoration: underline\">https://github.com/ava-labs/avalanchego/releases/tag/v1.12.0-fuji,</span> hardfork: <span style=\"color: #808000; text-decoration-color: #808000\">hardfork</span>=<span style=\"color: #00ff00; text-decoration-color: #00ff00; font-style: italic\">True</span> <span style=\"color: #808000; text-decoration-color: #808000\">confidence</span>=<span style=\"color: #008080; text-decoration-color: #008080; font-weight: bold\">0.9</span>\n",
       "</pre>\n"
      ],
      "text/plain": [
       "link: \u001b[4;94mhttps://github.com/ava-labs/avalanchego/releases/tag/v1.12.0-fuji,\u001b[0m hardfork: \u001b[33mhardfork\u001b[0m=\u001b[3;92mTrue\u001b[0m \u001b[33mconfidence\u001b[0m=\u001b[1;36m0\u001b[0m\u001b[1;36m.9\u001b[0m\n"
      ]
     },
     "metadata": {},
     "output_type": "display_data"
    },
    {
     "data": {
      "text/html": [
       "<pre style=\"white-space:pre;overflow-x:auto;line-height:normal;font-family:Menlo,'DejaVu Sans Mono',consolas,'Courier New',monospace\">link: <span style=\"color: #0000ff; text-decoration-color: #0000ff; text-decoration: underline\">https://github.com/ava-labs/avalanchego/releases/tag/v1.11.13,</span> hardfork: <span style=\"color: #808000; text-decoration-color: #808000\">hardfork</span>=<span style=\"color: #ff0000; text-decoration-color: #ff0000; font-style: italic\">False</span> <span style=\"color: #808000; text-decoration-color: #808000\">confidence</span>=<span style=\"color: #008080; text-decoration-color: #008080; font-weight: bold\">0.9</span>\n",
       "</pre>\n"
      ],
      "text/plain": [
       "link: \u001b[4;94mhttps://github.com/ava-labs/avalanchego/releases/tag/v1.11.13,\u001b[0m hardfork: \u001b[33mhardfork\u001b[0m=\u001b[3;91mFalse\u001b[0m \u001b[33mconfidence\u001b[0m=\u001b[1;36m0\u001b[0m\u001b[1;36m.9\u001b[0m\n"
      ]
     },
     "metadata": {},
     "output_type": "display_data"
    },
    {
     "data": {
      "text/html": [
       "<pre style=\"white-space:pre;overflow-x:auto;line-height:normal;font-family:Menlo,'DejaVu Sans Mono',consolas,'Courier New',monospace\">link: <span style=\"color: #0000ff; text-decoration-color: #0000ff; text-decoration: underline\">https://github.com/ava-labs/avalanchego/releases/tag/v1.11.13-rc.2,</span> hardfork: <span style=\"color: #808000; text-decoration-color: #808000\">hardfork</span>=<span style=\"color: #ff0000; text-decoration-color: #ff0000; font-style: italic\">False</span> <span style=\"color: #808000; text-decoration-color: #808000\">confidence</span>=<span style=\"color: #008080; text-decoration-color: #008080; font-weight: bold\">0.8</span>\n",
       "</pre>\n"
      ],
      "text/plain": [
       "link: \u001b[4;94mhttps://github.com/ava-labs/avalanchego/releases/tag/v1.11.13-rc.2,\u001b[0m hardfork: \u001b[33mhardfork\u001b[0m=\u001b[3;91mFalse\u001b[0m \u001b[33mconfidence\u001b[0m=\u001b[1;36m0\u001b[0m\u001b[1;36m.8\u001b[0m\n"
      ]
     },
     "metadata": {},
     "output_type": "display_data"
    },
    {
     "data": {
      "text/html": [
       "<pre style=\"white-space:pre;overflow-x:auto;line-height:normal;font-family:Menlo,'DejaVu Sans Mono',consolas,'Courier New',monospace\">link: <span style=\"color: #0000ff; text-decoration-color: #0000ff; text-decoration: underline\">https://github.com/ava-labs/avalanchego/releases/tag/v1.11.13-rc.1,</span> hardfork: <span style=\"color: #808000; text-decoration-color: #808000\">hardfork</span>=<span style=\"color: #ff0000; text-decoration-color: #ff0000; font-style: italic\">False</span> <span style=\"color: #808000; text-decoration-color: #808000\">confidence</span>=<span style=\"color: #008080; text-decoration-color: #008080; font-weight: bold\">0.8</span>\n",
       "</pre>\n"
      ],
      "text/plain": [
       "link: \u001b[4;94mhttps://github.com/ava-labs/avalanchego/releases/tag/v1.11.13-rc.1,\u001b[0m hardfork: \u001b[33mhardfork\u001b[0m=\u001b[3;91mFalse\u001b[0m \u001b[33mconfidence\u001b[0m=\u001b[1;36m0\u001b[0m\u001b[1;36m.8\u001b[0m\n"
      ]
     },
     "metadata": {},
     "output_type": "display_data"
    },
    {
     "data": {
      "text/html": [
       "<pre style=\"white-space:pre;overflow-x:auto;line-height:normal;font-family:Menlo,'DejaVu Sans Mono',consolas,'Courier New',monospace\">link: <span style=\"color: #0000ff; text-decoration-color: #0000ff; text-decoration: underline\">https://github.com/ava-labs/avalanchego/releases/tag/v1.11.13-rc.0,</span> hardfork: <span style=\"color: #808000; text-decoration-color: #808000\">hardfork</span>=<span style=\"color: #ff0000; text-decoration-color: #ff0000; font-style: italic\">False</span> <span style=\"color: #808000; text-decoration-color: #808000\">confidence</span>=<span style=\"color: #008080; text-decoration-color: #008080; font-weight: bold\">0.9</span>\n",
       "</pre>\n"
      ],
      "text/plain": [
       "link: \u001b[4;94mhttps://github.com/ava-labs/avalanchego/releases/tag/v1.11.13-rc.0,\u001b[0m hardfork: \u001b[33mhardfork\u001b[0m=\u001b[3;91mFalse\u001b[0m \u001b[33mconfidence\u001b[0m=\u001b[1;36m0\u001b[0m\u001b[1;36m.9\u001b[0m\n"
      ]
     },
     "metadata": {},
     "output_type": "display_data"
    },
    {
     "data": {
      "text/html": [
       "<pre style=\"white-space:pre;overflow-x:auto;line-height:normal;font-family:Menlo,'DejaVu Sans Mono',consolas,'Courier New',monospace\">link: <span style=\"color: #0000ff; text-decoration-color: #0000ff; text-decoration: underline\">https://github.com/ava-labs/avalanchego/releases/tag/v1.12.0-initial-poc.9,</span> hardfork: <span style=\"color: #808000; text-decoration-color: #808000\">hardfork</span>=<span style=\"color: #ff0000; text-decoration-color: #ff0000; font-style: italic\">False</span> \n",
       "<span style=\"color: #808000; text-decoration-color: #808000\">confidence</span>=<span style=\"color: #008080; text-decoration-color: #008080; font-weight: bold\">0.8</span>\n",
       "</pre>\n"
      ],
      "text/plain": [
       "link: \u001b[4;94mhttps://github.com/ava-labs/avalanchego/releases/tag/v1.12.0-initial-poc.9,\u001b[0m hardfork: \u001b[33mhardfork\u001b[0m=\u001b[3;91mFalse\u001b[0m \n",
       "\u001b[33mconfidence\u001b[0m=\u001b[1;36m0\u001b[0m\u001b[1;36m.8\u001b[0m\n"
      ]
     },
     "metadata": {},
     "output_type": "display_data"
    },
    {
     "data": {
      "text/html": [
       "<pre style=\"white-space:pre;overflow-x:auto;line-height:normal;font-family:Menlo,'DejaVu Sans Mono',consolas,'Courier New',monospace\">link: <span style=\"color: #0000ff; text-decoration-color: #0000ff; text-decoration: underline\">https://github.com/ava-labs/avalanchego/releases/tag/v1.12.0-initial-poc.8,</span> hardfork: <span style=\"color: #808000; text-decoration-color: #808000\">hardfork</span>=<span style=\"color: #ff0000; text-decoration-color: #ff0000; font-style: italic\">False</span> \n",
       "<span style=\"color: #808000; text-decoration-color: #808000\">confidence</span>=<span style=\"color: #008080; text-decoration-color: #008080; font-weight: bold\">0.8</span>\n",
       "</pre>\n"
      ],
      "text/plain": [
       "link: \u001b[4;94mhttps://github.com/ava-labs/avalanchego/releases/tag/v1.12.0-initial-poc.8,\u001b[0m hardfork: \u001b[33mhardfork\u001b[0m=\u001b[3;91mFalse\u001b[0m \n",
       "\u001b[33mconfidence\u001b[0m=\u001b[1;36m0\u001b[0m\u001b[1;36m.8\u001b[0m\n"
      ]
     },
     "metadata": {},
     "output_type": "display_data"
    },
    {
     "data": {
      "text/html": [
       "<pre style=\"white-space:pre;overflow-x:auto;line-height:normal;font-family:Menlo,'DejaVu Sans Mono',consolas,'Courier New',monospace\">link: <span style=\"color: #0000ff; text-decoration-color: #0000ff; text-decoration: underline\">https://github.com/ava-labs/avalanchego/releases/tag/v1.12.0-initial-poc.7,</span> hardfork: <span style=\"color: #808000; text-decoration-color: #808000\">hardfork</span>=<span style=\"color: #ff0000; text-decoration-color: #ff0000; font-style: italic\">False</span> \n",
       "<span style=\"color: #808000; text-decoration-color: #808000\">confidence</span>=<span style=\"color: #008080; text-decoration-color: #008080; font-weight: bold\">0.8</span>\n",
       "</pre>\n"
      ],
      "text/plain": [
       "link: \u001b[4;94mhttps://github.com/ava-labs/avalanchego/releases/tag/v1.12.0-initial-poc.7,\u001b[0m hardfork: \u001b[33mhardfork\u001b[0m=\u001b[3;91mFalse\u001b[0m \n",
       "\u001b[33mconfidence\u001b[0m=\u001b[1;36m0\u001b[0m\u001b[1;36m.8\u001b[0m\n"
      ]
     },
     "metadata": {},
     "output_type": "display_data"
    },
    {
     "data": {
      "text/html": [
       "<pre style=\"white-space:pre;overflow-x:auto;line-height:normal;font-family:Menlo,'DejaVu Sans Mono',consolas,'Courier New',monospace\">link: <span style=\"color: #0000ff; text-decoration-color: #0000ff; text-decoration: underline\">https://github.com/ava-labs/avalanchego/releases/tag/v1.12.0-initial-poc.6,</span> hardfork: <span style=\"color: #808000; text-decoration-color: #808000\">hardfork</span>=<span style=\"color: #ff0000; text-decoration-color: #ff0000; font-style: italic\">False</span> \n",
       "<span style=\"color: #808000; text-decoration-color: #808000\">confidence</span>=<span style=\"color: #008080; text-decoration-color: #008080; font-weight: bold\">0.9</span>\n",
       "</pre>\n"
      ],
      "text/plain": [
       "link: \u001b[4;94mhttps://github.com/ava-labs/avalanchego/releases/tag/v1.12.0-initial-poc.6,\u001b[0m hardfork: \u001b[33mhardfork\u001b[0m=\u001b[3;91mFalse\u001b[0m \n",
       "\u001b[33mconfidence\u001b[0m=\u001b[1;36m0\u001b[0m\u001b[1;36m.9\u001b[0m\n"
      ]
     },
     "metadata": {},
     "output_type": "display_data"
    },
    {
     "data": {
      "text/html": [
       "<pre style=\"white-space:pre;overflow-x:auto;line-height:normal;font-family:Menlo,'DejaVu Sans Mono',consolas,'Courier New',monospace\">link: <span style=\"color: #0000ff; text-decoration-color: #0000ff; text-decoration: underline\">https://github.com/ava-labs/avalanchego/releases/tag/v1.11.12,</span> hardfork: <span style=\"color: #808000; text-decoration-color: #808000\">hardfork</span>=<span style=\"color: #ff0000; text-decoration-color: #ff0000; font-style: italic\">False</span> <span style=\"color: #808000; text-decoration-color: #808000\">confidence</span>=<span style=\"color: #008080; text-decoration-color: #008080; font-weight: bold\">0.9</span>\n",
       "</pre>\n"
      ],
      "text/plain": [
       "link: \u001b[4;94mhttps://github.com/ava-labs/avalanchego/releases/tag/v1.11.12,\u001b[0m hardfork: \u001b[33mhardfork\u001b[0m=\u001b[3;91mFalse\u001b[0m \u001b[33mconfidence\u001b[0m=\u001b[1;36m0\u001b[0m\u001b[1;36m.9\u001b[0m\n"
      ]
     },
     "metadata": {},
     "output_type": "display_data"
    }
   ],
   "source": [
    "max_length = 5000\n",
    "model = \"gpt-4o-mini\"\n",
    "temperature = 0\n",
    "max_tokens = 1000\n",
    "\n",
    "\n",
    "class Hardfork(BaseModel):\n",
    "    hardfork: bool = Field(..., description=\"Whether this is a hardfork\")\n",
    "    confidence: float = Field(..., description=\"Confidence in the prediction, between 0 and 1\")\n",
    "\n",
    "\n",
    "def predict_hardfork(text: str) -> Hardfork:\n",
    "    client = OpenAI()\n",
    "    response = client.beta.chat.completions.parse(\n",
    "        messages=[\n",
    "            {\"role\": \"user\", \"content\": text},\n",
    "        ],\n",
    "        model=model,\n",
    "        temperature=temperature,\n",
    "        max_tokens=max_tokens,\n",
    "        response_format=Hardfork,\n",
    "    )\n",
    "\n",
    "    if not response.choices:\n",
    "        return Hardfork(hardfork=False, confidence=0)\n",
    "\n",
    "    return response.choices[0].message.parsed\n",
    "\n",
    "\n",
    "for entry in rss[\"entries\"]:\n",
    "    text = str(entry)\n",
    "    hf = predict_hardfork(text)\n",
    "\n",
    "    link = entry[\"link\"]\n",
    "    print(f\"link: {link}, hardfork: {hf}\")"
   ]
  },
  {
   "cell_type": "code",
   "execution_count": null,
   "metadata": {},
   "outputs": [],
   "source": []
  }
 ],
 "metadata": {
  "kernelspec": {
   "display_name": ".venv",
   "language": "python",
   "name": "python3"
  },
  "language_info": {
   "codemirror_mode": {
    "name": "ipython",
    "version": 3
   },
   "file_extension": ".py",
   "mimetype": "text/x-python",
   "name": "python",
   "nbconvert_exporter": "python",
   "pygments_lexer": "ipython3",
   "version": "3.11.10"
  }
 },
 "nbformat": 4,
 "nbformat_minor": 2
}
