{
 "cells": [
  {
   "cell_type": "code",
   "execution_count": 1,
   "id": "0e17014e-3c55-4855-a83d-05a0308e6802",
   "metadata": {},
   "outputs": [],
   "source": [
    "from enum import Enum\n",
    "\n",
    "import httpx\n",
    "from dotenv import load_dotenv\n",
    "from markdownify import markdownify as md\n",
    "from openai import OpenAI\n",
    "from pydantic import BaseModel\n",
    "from pydantic import Field\n",
    "from rich import print"
   ]
  },
  {
   "cell_type": "code",
   "execution_count": 2,
   "id": "8a23749f-7514-4052-9dae-e3f7e672356e",
   "metadata": {},
   "outputs": [
    {
     "data": {
      "text/plain": [
       "True"
      ]
     },
     "execution_count": 2,
     "metadata": {},
     "output_type": "execute_result"
    }
   ],
   "source": [
    "load_dotenv()"
   ]
  },
  {
   "cell_type": "code",
   "execution_count": 3,
   "id": "9e4b5074-05d6-4b7c-82c7-b782db276c61",
   "metadata": {},
   "outputs": [],
   "source": [
    "# binance spot api\n",
    "url = \"https://developers.binance.com/docs/binance-spot-api-docs\"\n",
    "max_length = 5000\n",
    "model = \"gpt-4o-mini\"\n",
    "temperature = 0\n",
    "max_tokens = 1000"
   ]
  },
  {
   "cell_type": "code",
   "execution_count": 4,
   "id": "bc28b4f3-a32c-46e7-a27b-8ecb3b3e862a",
   "metadata": {
    "scrolled": true
   },
   "outputs": [
    {
     "data": {
      "text/html": [
       "<pre style=\"white-space:pre;overflow-x:auto;line-height:normal;font-family:Menlo,'DejaVu Sans Mono',consolas,'Courier New',monospace\"><span style=\"font-weight: bold\">&lt;</span><span style=\"color: #000000; text-decoration-color: #000000\">!doctype html&gt;</span>\n",
       "<span style=\"color: #000000; text-decoration-color: #000000\">&lt;html </span><span style=\"color: #808000; text-decoration-color: #808000\">lang</span><span style=\"color: #000000; text-decoration-color: #000000\">=</span><span style=\"color: #008000; text-decoration-color: #008000\">\"en\"</span><span style=\"color: #000000; text-decoration-color: #000000\"> </span><span style=\"color: #808000; text-decoration-color: #808000\">dir</span><span style=\"color: #000000; text-decoration-color: #000000\">=</span><span style=\"color: #008000; text-decoration-color: #008000\">\"ltr\"</span><span style=\"color: #000000; text-decoration-color: #000000\"> </span><span style=\"color: #808000; text-decoration-color: #808000\">class</span><span style=\"color: #000000; text-decoration-color: #000000\">=</span><span style=\"color: #008000; text-decoration-color: #008000\">\"docs-wrapper plugin-docs plugin-id-default docs-version-current docs-doc-page </span>\n",
       "<span style=\"color: #008000; text-decoration-color: #008000\">docs-doc-id-binance-spot-api-docs/CHANGELOG\"</span><span style=\"color: #000000; text-decoration-color: #000000\"> data-has-</span><span style=\"color: #808000; text-decoration-color: #808000\">hydrated</span><span style=\"color: #000000; text-decoration-color: #000000\">=</span><span style=\"color: #008000; text-decoration-color: #008000\">\"false\"</span><span style=\"color: #000000; text-decoration-color: #000000\">&gt;</span>\n",
       "<span style=\"color: #000000; text-decoration-color: #000000\">&lt;head&gt;</span>\n",
       "<span style=\"color: #000000; text-decoration-color: #000000\">&lt;meta </span><span style=\"color: #808000; text-decoration-color: #808000\">charset</span><span style=\"color: #000000; text-decoration-color: #000000\">=</span><span style=\"color: #008000; text-decoration-color: #008000\">\"UTF-8\"</span><span style=\"color: #000000; text-decoration-color: #000000\">&gt;</span>\n",
       "<span style=\"color: #000000; text-decoration-color: #000000\">&lt;meta </span><span style=\"color: #808000; text-decoration-color: #808000\">name</span><span style=\"color: #000000; text-decoration-color: #000000\">=</span><span style=\"color: #008000; text-decoration-color: #008000\">\"generator\"</span><span style=\"color: #000000; text-decoration-color: #000000\"> </span><span style=\"color: #808000; text-decoration-color: #808000\">content</span><span style=\"color: #000000; text-decoration-color: #000000\">=</span><span style=\"color: #008000; text-decoration-color: #008000\">\"Docusaurus v3.4.0\"</span><span style=\"color: #000000; text-decoration-color: #000000\">&gt;</span>\n",
       "<span style=\"color: #000000; text-decoration-color: #000000\">&lt;title data-</span><span style=\"color: #808000; text-decoration-color: #808000\">rh</span><span style=\"color: #000000; text-decoration-color: #000000\">=</span><span style=\"color: #008000; text-decoration-color: #008000\">\"true\"</span><span style=\"color: #000000; text-decoration-color: #000000\">&gt;Changelog | Binance Open Platform&lt;</span><span style=\"color: #800080; text-decoration-color: #800080\">/</span><span style=\"color: #ff00ff; text-decoration-color: #ff00ff\">title</span><span style=\"color: #000000; text-decoration-color: #000000\">&gt;&lt;meta data-</span><span style=\"color: #808000; text-decoration-color: #808000\">rh</span><span style=\"color: #000000; text-decoration-color: #000000\">=</span><span style=\"color: #008000; text-decoration-color: #008000\">\"true\"</span><span style=\"color: #000000; text-decoration-color: #000000\"> </span><span style=\"color: #808000; text-decoration-color: #808000\">name</span><span style=\"color: #000000; text-decoration-color: #000000\">=</span><span style=\"color: #008000; text-decoration-color: #008000\">\"viewport\"</span><span style=\"color: #000000; text-decoration-color: #000000\"> </span>\n",
       "<span style=\"color: #808000; text-decoration-color: #808000\">content</span><span style=\"color: #000000; text-decoration-color: #000000\">=</span><span style=\"color: #008000; text-decoration-color: #008000\">\"width=device-width,initial-scale=1\"</span><span style=\"color: #000000; text-decoration-color: #000000\">&gt;&lt;meta data-</span><span style=\"color: #808000; text-decoration-color: #808000\">rh</span><span style=\"color: #000000; text-decoration-color: #000000\">=</span><span style=\"color: #008000; text-decoration-color: #008000\">\"true\"</span><span style=\"color: #000000; text-decoration-color: #000000\"> </span><span style=\"color: #808000; text-decoration-color: #808000\">name</span><span style=\"color: #000000; text-decoration-color: #000000\">=</span><span style=\"color: #008000; text-decoration-color: #008000\">\"twitter:card\"</span><span style=\"color: #000000; text-decoration-color: #000000\"> </span>\n",
       "<span style=\"color: #808000; text-decoration-color: #808000\">content</span><span style=\"color: #000000; text-decoration-color: #000000\">=</span><span style=\"color: #008000; text-decoration-color: #008000\">\"summary_large_image\"</span><span style=\"color: #000000; text-decoration-color: #000000\">&gt;&lt;meta data-</span><span style=\"color: #808000; text-decoration-color: #808000\">rh</span><span style=\"color: #000000; text-decoration-color: #000000\">=</span><span style=\"color: #008000; text-decoration-color: #008000\">\"true\"</span><span style=\"color: #000000; text-decoration-color: #000000\"> </span><span style=\"color: #808000; text-decoration-color: #808000\">property</span><span style=\"color: #000000; text-decoration-color: #000000\">=</span><span style=\"color: #008000; text-decoration-color: #008000\">\"og:url\"</span><span style=\"color: #000000; text-decoration-color: #000000\"> </span>\n",
       "<span style=\"color: #808000; text-decoration-color: #808000\">content</span><span style=\"color: #000000; text-decoration-color: #000000\">=</span><span style=\"color: #008000; text-decoration-color: #008000\">\"https://developers.binance.com/docs/binance-spot-api-docs\"</span><span style=\"color: #000000; text-decoration-color: #000000\">&gt;&lt;meta data-</span><span style=\"color: #808000; text-decoration-color: #808000\">rh</span><span style=\"color: #000000; text-decoration-color: #000000\">=</span><span style=\"color: #008000; text-decoration-color: #008000\">\"true\"</span><span style=\"color: #000000; text-decoration-color: #000000\"> </span><span style=\"color: #808000; text-decoration-color: #808000\">property</span><span style=\"color: #000000; text-decoration-color: #000000\">=</span><span style=\"color: #008000; text-decoration-color: #008000\">\"og:locale\"</span><span style=\"color: #000000; text-decoration-color: #000000\"> </span>\n",
       "<span style=\"color: #808000; text-decoration-color: #808000\">content</span><span style=\"color: #000000; text-decoration-color: #000000\">=</span><span style=\"color: #008000; text-decoration-color: #008000\">\"en\"</span><span style=\"color: #000000; text-decoration-color: #000000\">&gt;&lt;meta data-</span><span style=\"color: #808000; text-decoration-color: #808000\">rh</span><span style=\"color: #000000; text-decoration-color: #000000\">=</span><span style=\"color: #008000; text-decoration-color: #008000\">\"true\"</span><span style=\"color: #000000; text-decoration-color: #000000\"> </span><span style=\"color: #808000; text-decoration-color: #808000\">property</span><span style=\"color: #000000; text-decoration-color: #000000\">=</span><span style=\"color: #008000; text-decoration-color: #008000\">\"og:locale:alternate\"</span><span style=\"color: #000000; text-decoration-color: #000000\"> </span><span style=\"color: #808000; text-decoration-color: #808000\">content</span><span style=\"color: #000000; text-decoration-color: #000000\">=</span><span style=\"color: #008000; text-decoration-color: #008000\">\"zh_CN\"</span><span style=\"color: #000000; text-decoration-color: #000000\">&gt;&lt;meta data-</span><span style=\"color: #808000; text-decoration-color: #808000\">rh</span><span style=\"color: #000000; text-decoration-color: #000000\">=</span><span style=\"color: #008000; text-decoration-color: #008000\">\"true\"</span><span style=\"color: #000000; text-decoration-color: #000000\"> </span>\n",
       "<span style=\"color: #808000; text-decoration-color: #808000\">name</span><span style=\"color: #000000; text-decoration-color: #000000\">=</span><span style=\"color: #008000; text-decoration-color: #008000\">\"docusaurus_locale\"</span><span style=\"color: #000000; text-decoration-color: #000000\"> </span><span style=\"color: #808000; text-decoration-color: #808000\">content</span><span style=\"color: #000000; text-decoration-color: #000000\">=</span><span style=\"color: #008000; text-decoration-color: #008000\">\"en\"</span><span style=\"color: #000000; text-decoration-color: #000000\">&gt;&lt;meta data-</span><span style=\"color: #808000; text-decoration-color: #808000\">rh</span><span style=\"color: #000000; text-decoration-color: #000000\">=</span><span style=\"color: #008000; text-decoration-color: #008000\">\"true\"</span><span style=\"color: #000000; text-decoration-color: #000000\"> </span><span style=\"color: #808000; text-decoration-color: #808000\">name</span><span style=\"color: #000000; text-decoration-color: #000000\">=</span><span style=\"color: #008000; text-decoration-color: #008000\">\"docsearch:language\"</span><span style=\"color: #000000; text-decoration-color: #000000\"> </span><span style=\"color: #808000; text-decoration-color: #808000\">content</span><span style=\"color: #000000; text-decoration-color: #000000\">=</span><span style=\"color: #008000; text-decoration-color: #008000\">\"en\"</span><span style=\"color: #000000; text-decoration-color: #000000\">&gt;&lt;meta </span>\n",
       "<span style=\"color: #000000; text-decoration-color: #000000\">data-</span><span style=\"color: #808000; text-decoration-color: #808000\">rh</span><span style=\"color: #000000; text-decoration-color: #000000\">=</span><span style=\"color: #008000; text-decoration-color: #008000\">\"true\"</span><span style=\"color: #000000; text-decoration-color: #000000\"> </span><span style=\"color: #808000; text-decoration-color: #808000\">name</span><span style=\"color: #000000; text-decoration-color: #000000\">=</span><span style=\"color: #008000; text-decoration-color: #008000\">\"docusaurus_version\"</span><span style=\"color: #000000; text-decoration-color: #000000\"> </span><span style=\"color: #808000; text-decoration-color: #808000\">content</span><span style=\"color: #000000; text-decoration-color: #000000\">=</span><span style=\"color: #008000; text-decoration-color: #008000\">\"current\"</span><span style=\"color: #000000; text-decoration-color: #000000\">&gt;&lt;meta data-</span><span style=\"color: #808000; text-decoration-color: #808000\">rh</span><span style=\"color: #000000; text-decoration-color: #000000\">=</span><span style=\"color: #008000; text-decoration-color: #008000\">\"true\"</span><span style=\"color: #000000; text-decoration-color: #000000\"> </span><span style=\"color: #808000; text-decoration-color: #808000\">name</span><span style=\"color: #000000; text-decoration-color: #000000\">=</span><span style=\"color: #008000; text-decoration-color: #008000\">\"docusaurus_tag\"</span><span style=\"color: #000000; text-decoration-color: #000000\"> </span>\n",
       "<span style=\"color: #808000; text-decoration-color: #808000\">content</span><span style=\"color: #000000; text-decoration-color: #000000\">=</span><span style=\"color: #008000; text-decoration-color: #008000\">\"docs-default-current\"</span><span style=\"font-weight: bold\">&gt;</span>&lt;meta data-<span style=\"color: #808000; text-decoration-color: #808000\">rh</span>=\"\n",
       "</pre>\n"
      ],
      "text/plain": [
       "\u001b[1m<\u001b[0m\u001b[39m!doctype html>\u001b[0m\n",
       "\u001b[39m<html \u001b[0m\u001b[33mlang\u001b[0m\u001b[39m=\u001b[0m\u001b[32m\"en\"\u001b[0m\u001b[39m \u001b[0m\u001b[33mdir\u001b[0m\u001b[39m=\u001b[0m\u001b[32m\"ltr\"\u001b[0m\u001b[39m \u001b[0m\u001b[33mclass\u001b[0m\u001b[39m=\u001b[0m\u001b[32m\"docs\u001b[0m\u001b[32m-wrapper plugin-docs plugin-id-default docs-version-current docs-doc-page \u001b[0m\n",
       "\u001b[32mdocs-doc-id-binance-spot-api-docs/CHANGELOG\"\u001b[0m\u001b[39m data-has-\u001b[0m\u001b[33mhydrated\u001b[0m\u001b[39m=\u001b[0m\u001b[32m\"false\"\u001b[0m\u001b[39m>\u001b[0m\n",
       "\u001b[39m<head>\u001b[0m\n",
       "\u001b[39m<meta \u001b[0m\u001b[33mcharset\u001b[0m\u001b[39m=\u001b[0m\u001b[32m\"UTF\u001b[0m\u001b[32m-8\"\u001b[0m\u001b[39m>\u001b[0m\n",
       "\u001b[39m<meta \u001b[0m\u001b[33mname\u001b[0m\u001b[39m=\u001b[0m\u001b[32m\"generator\"\u001b[0m\u001b[39m \u001b[0m\u001b[33mcontent\u001b[0m\u001b[39m=\u001b[0m\u001b[32m\"Docusaurus\u001b[0m\u001b[32m v3.4.0\"\u001b[0m\u001b[39m>\u001b[0m\n",
       "\u001b[39m<title data-\u001b[0m\u001b[33mrh\u001b[0m\u001b[39m=\u001b[0m\u001b[32m\"true\"\u001b[0m\u001b[39m>Changelog | Binance Open Platform<\u001b[0m\u001b[35m/\u001b[0m\u001b[95mtitle\u001b[0m\u001b[39m><meta data-\u001b[0m\u001b[33mrh\u001b[0m\u001b[39m=\u001b[0m\u001b[32m\"true\"\u001b[0m\u001b[39m \u001b[0m\u001b[33mname\u001b[0m\u001b[39m=\u001b[0m\u001b[32m\"viewport\"\u001b[0m\u001b[39m \u001b[0m\n",
       "\u001b[33mcontent\u001b[0m\u001b[39m=\u001b[0m\u001b[32m\"width\u001b[0m\u001b[32m=device-width,initial-\u001b[0m\u001b[32mscale\u001b[0m\u001b[32m=\u001b[0m\u001b[32m1\"\u001b[0m\u001b[39m><meta data-\u001b[0m\u001b[33mrh\u001b[0m\u001b[39m=\u001b[0m\u001b[32m\"true\"\u001b[0m\u001b[39m \u001b[0m\u001b[33mname\u001b[0m\u001b[39m=\u001b[0m\u001b[32m\"twitter\u001b[0m\u001b[32m:card\"\u001b[0m\u001b[39m \u001b[0m\n",
       "\u001b[33mcontent\u001b[0m\u001b[39m=\u001b[0m\u001b[32m\"summary_large_image\"\u001b[0m\u001b[39m><meta data-\u001b[0m\u001b[33mrh\u001b[0m\u001b[39m=\u001b[0m\u001b[32m\"true\"\u001b[0m\u001b[39m \u001b[0m\u001b[33mproperty\u001b[0m\u001b[39m=\u001b[0m\u001b[32m\"og\u001b[0m\u001b[32m:url\"\u001b[0m\u001b[39m \u001b[0m\n",
       "\u001b[33mcontent\u001b[0m\u001b[39m=\u001b[0m\u001b[32m\"https\u001b[0m\u001b[32m://developers.binance.com/docs/binance-spot-api-docs\"\u001b[0m\u001b[39m><meta data-\u001b[0m\u001b[33mrh\u001b[0m\u001b[39m=\u001b[0m\u001b[32m\"true\"\u001b[0m\u001b[39m \u001b[0m\u001b[33mproperty\u001b[0m\u001b[39m=\u001b[0m\u001b[32m\"og\u001b[0m\u001b[32m:locale\"\u001b[0m\u001b[39m \u001b[0m\n",
       "\u001b[33mcontent\u001b[0m\u001b[39m=\u001b[0m\u001b[32m\"en\"\u001b[0m\u001b[39m><meta data-\u001b[0m\u001b[33mrh\u001b[0m\u001b[39m=\u001b[0m\u001b[32m\"true\"\u001b[0m\u001b[39m \u001b[0m\u001b[33mproperty\u001b[0m\u001b[39m=\u001b[0m\u001b[32m\"og\u001b[0m\u001b[32m:locale:alternate\"\u001b[0m\u001b[39m \u001b[0m\u001b[33mcontent\u001b[0m\u001b[39m=\u001b[0m\u001b[32m\"zh_CN\"\u001b[0m\u001b[39m><meta data-\u001b[0m\u001b[33mrh\u001b[0m\u001b[39m=\u001b[0m\u001b[32m\"true\"\u001b[0m\u001b[39m \u001b[0m\n",
       "\u001b[33mname\u001b[0m\u001b[39m=\u001b[0m\u001b[32m\"docusaurus_locale\"\u001b[0m\u001b[39m \u001b[0m\u001b[33mcontent\u001b[0m\u001b[39m=\u001b[0m\u001b[32m\"en\"\u001b[0m\u001b[39m><meta data-\u001b[0m\u001b[33mrh\u001b[0m\u001b[39m=\u001b[0m\u001b[32m\"true\"\u001b[0m\u001b[39m \u001b[0m\u001b[33mname\u001b[0m\u001b[39m=\u001b[0m\u001b[32m\"docsearch\u001b[0m\u001b[32m:language\"\u001b[0m\u001b[39m \u001b[0m\u001b[33mcontent\u001b[0m\u001b[39m=\u001b[0m\u001b[32m\"en\"\u001b[0m\u001b[39m><meta \u001b[0m\n",
       "\u001b[39mdata-\u001b[0m\u001b[33mrh\u001b[0m\u001b[39m=\u001b[0m\u001b[32m\"true\"\u001b[0m\u001b[39m \u001b[0m\u001b[33mname\u001b[0m\u001b[39m=\u001b[0m\u001b[32m\"docusaurus_version\"\u001b[0m\u001b[39m \u001b[0m\u001b[33mcontent\u001b[0m\u001b[39m=\u001b[0m\u001b[32m\"current\"\u001b[0m\u001b[39m><meta data-\u001b[0m\u001b[33mrh\u001b[0m\u001b[39m=\u001b[0m\u001b[32m\"true\"\u001b[0m\u001b[39m \u001b[0m\u001b[33mname\u001b[0m\u001b[39m=\u001b[0m\u001b[32m\"docusaurus_tag\"\u001b[0m\u001b[39m \u001b[0m\n",
       "\u001b[33mcontent\u001b[0m\u001b[39m=\u001b[0m\u001b[32m\"docs\u001b[0m\u001b[32m-default-current\"\u001b[0m\u001b[1m>\u001b[0m<meta data-\u001b[33mrh\u001b[0m=\"\n"
      ]
     },
     "metadata": {},
     "output_type": "display_data"
    }
   ],
   "source": [
    "resp = httpx.get(url)\n",
    "resp.raise_for_status()\n",
    "\n",
    "print(resp.text[:1000])"
   ]
  },
  {
   "cell_type": "code",
   "execution_count": 5,
   "id": "2f59222f-3d3f-4c8e-aafa-38aa3b818d68",
   "metadata": {
    "scrolled": true
   },
   "outputs": [
    {
     "data": {
      "text/html": [
       "<pre style=\"white-space:pre;overflow-x:auto;line-height:normal;font-family:Menlo,'DejaVu Sans Mono',consolas,'Courier New',monospace\">\n",
       "\n",
       "\n",
       "\n",
       "\n",
       "Changelog \\| Binance Open Platform\n",
       "\n",
       "\n",
       "\n",
       "\n",
       "\n",
       "\n",
       "\n",
       "\n",
       "Skip to main contentProducts▼SearchEnglish* English\n",
       "* 简体中文\n",
       " Spot Trading * Changelog\n",
       "* Readme\n",
       "* Filters\n",
       "* Enums\n",
       "* Rest API\n",
       "* Fix API\n",
       "* Web Socket Streams\n",
       "* User Data Stream\n",
       "* Web Socket API\n",
       "* Testnet\n",
       "* Error\n",
       "* FAQs\n",
       "* \n",
       "* Changelog\n",
       "On this page\n",
       "CHANGELOG for Binance's API\n",
       "===========================\n",
       "\n",
       "\n",
       "**Last Updated: <span style=\"color: #008080; text-decoration-color: #008080; font-weight: bold\">2025</span>\\<span style=\"color: #008080; text-decoration-color: #008080; font-weight: bold\">-01</span>\\<span style=\"color: #008080; text-decoration-color: #008080; font-weight: bold\">-09</span>**\n",
       "\n",
       "\n",
       "### <span style=\"color: #008080; text-decoration-color: #008080; font-weight: bold\">2025</span>\\<span style=\"color: #008080; text-decoration-color: #008080; font-weight: bold\">-01</span>\\<span style=\"color: #008080; text-decoration-color: #008080; font-weight: bold\">-09</span>​\n",
       "\n",
       "\n",
       "* FIX Market Data will be available at **January <span style=\"color: #008080; text-decoration-color: #008080; font-weight: bold\">16</span>, <span style=\"color: #00ff00; text-decoration-color: #00ff00; font-weight: bold\">05:00</span> UTC**. The FIX API documentation has been updated \n",
       "regarding this feature.\n",
       "* Please refer to this link for the QuickFix Schema for FIX Market Data.\n",
       "\n",
       "\n",
       "\n",
       "\n",
       "---\n",
       "\n",
       "\n",
       "### <span style=\"color: #008080; text-decoration-color: #008080; font-weight: bold\">2024</span>\\<span style=\"color: #008080; text-decoration-color: #008080; font-weight: bold\">-12</span>\\<span style=\"color: #008080; text-decoration-color: #008080; font-weight: bold\">-17</span>​\n",
       "\n",
       "\n",
       "General Changes:\n",
       "\n",
       "\n",
       "The system now supports microseconds in all related time and/or timestamp fields. Microsecond support is \n",
       "**opt\\-in**, by default the requests and responses still use milliseconds. Examples in documentation are also using\n",
       "milliseconds for the foreseeable future.\n",
       "\n",
       "\n",
       "WebSocket Streams\n",
       "\n",
       "\n",
       "* A new optional parameter `timeUnit` can be used in the co\n",
       "</pre>\n"
      ],
      "text/plain": [
       "\n",
       "\n",
       "\n",
       "\n",
       "\n",
       "Changelog \\| Binance Open Platform\n",
       "\n",
       "\n",
       "\n",
       "\n",
       "\n",
       "\n",
       "\n",
       "\n",
       "Skip to main contentProducts▼SearchEnglish* English\n",
       "* 简体中文\n",
       " Spot Trading * Changelog\n",
       "* Readme\n",
       "* Filters\n",
       "* Enums\n",
       "* Rest API\n",
       "* Fix API\n",
       "* Web Socket Streams\n",
       "* User Data Stream\n",
       "* Web Socket API\n",
       "* Testnet\n",
       "* Error\n",
       "* FAQs\n",
       "* \n",
       "* Changelog\n",
       "On this page\n",
       "CHANGELOG for Binance's API\n",
       "===========================\n",
       "\n",
       "\n",
       "**Last Updated: \u001b[1;36m2025\u001b[0m\\\u001b[1;36m-01\u001b[0m\\\u001b[1;36m-09\u001b[0m**\n",
       "\n",
       "\n",
       "### \u001b[1;36m2025\u001b[0m\\\u001b[1;36m-01\u001b[0m\\\u001b[1;36m-09\u001b[0m​\n",
       "\n",
       "\n",
       "* FIX Market Data will be available at **January \u001b[1;36m16\u001b[0m, \u001b[1;92m05:00\u001b[0m UTC**. The FIX API documentation has been updated \n",
       "regarding this feature.\n",
       "* Please refer to this link for the QuickFix Schema for FIX Market Data.\n",
       "\n",
       "\n",
       "\n",
       "\n",
       "---\n",
       "\n",
       "\n",
       "### \u001b[1;36m2024\u001b[0m\\\u001b[1;36m-12\u001b[0m\\\u001b[1;36m-17\u001b[0m​\n",
       "\n",
       "\n",
       "General Changes:\n",
       "\n",
       "\n",
       "The system now supports microseconds in all related time and/or timestamp fields. Microsecond support is \n",
       "**opt\\-in**, by default the requests and responses still use milliseconds. Examples in documentation are also using\n",
       "milliseconds for the foreseeable future.\n",
       "\n",
       "\n",
       "WebSocket Streams\n",
       "\n",
       "\n",
       "* A new optional parameter `timeUnit` can be used in the co\n"
      ]
     },
     "metadata": {},
     "output_type": "display_data"
    }
   ],
   "source": [
    "markdown_content = md(resp.content, strip=[\"a\", \"img\"])\n",
    "print(markdown_content[:1000])"
   ]
  },
  {
   "cell_type": "markdown",
   "id": "d478b384-0aac-4517-a886-e9f56d399f30",
   "metadata": {},
   "source": [
    "## Structured Outputs\n",
    "\n",
    "- [OpenAI docs](https://platform.openai.com/docs/guides/structured-outputs)\n",
    "- [OpenAI playground](https://platform.openai.com/playground/chat)\n"
   ]
  },
  {
   "cell_type": "code",
   "execution_count": 6,
   "id": "a62b1ce5-5fff-41d5-960e-aa52749fdf8a",
   "metadata": {},
   "outputs": [
    {
     "data": {
      "text/html": [
       "<pre style=\"white-space:pre;overflow-x:auto;line-height:normal;font-family:Menlo,'DejaVu Sans Mono',consolas,'Courier New',monospace\"><span style=\"font-weight: bold\">{</span>\n",
       "    <span style=\"color: #008000; text-decoration-color: #008000\">'$defs'</span>: <span style=\"font-weight: bold\">{</span>\n",
       "        <span style=\"color: #008000; text-decoration-color: #008000\">'Category'</span>: <span style=\"font-weight: bold\">{</span>\n",
       "            <span style=\"color: #008000; text-decoration-color: #008000\">'enum'</span>: <span style=\"font-weight: bold\">[</span>\n",
       "                <span style=\"color: #008000; text-decoration-color: #008000\">'breaking changes'</span>,\n",
       "                <span style=\"color: #008000; text-decoration-color: #008000\">'new features'</span>,\n",
       "                <span style=\"color: #008000; text-decoration-color: #008000\">'deprecations'</span>,\n",
       "                <span style=\"color: #008000; text-decoration-color: #008000\">'bug fixes'</span>,\n",
       "                <span style=\"color: #008000; text-decoration-color: #008000\">'performance improvements'</span>,\n",
       "                <span style=\"color: #008000; text-decoration-color: #008000\">'security updates'</span>\n",
       "            <span style=\"font-weight: bold\">]</span>,\n",
       "            <span style=\"color: #008000; text-decoration-color: #008000\">'title'</span>: <span style=\"color: #008000; text-decoration-color: #008000\">'Category'</span>,\n",
       "            <span style=\"color: #008000; text-decoration-color: #008000\">'type'</span>: <span style=\"color: #008000; text-decoration-color: #008000\">'string'</span>\n",
       "        <span style=\"font-weight: bold\">}</span>,\n",
       "        <span style=\"color: #008000; text-decoration-color: #008000\">'Change'</span>: <span style=\"font-weight: bold\">{</span>\n",
       "            <span style=\"color: #008000; text-decoration-color: #008000\">'properties'</span>: <span style=\"font-weight: bold\">{</span>\n",
       "                <span style=\"color: #008000; text-decoration-color: #008000\">'content'</span>: <span style=\"font-weight: bold\">{</span><span style=\"color: #008000; text-decoration-color: #008000\">'title'</span>: <span style=\"color: #008000; text-decoration-color: #008000\">'Content'</span>, <span style=\"color: #008000; text-decoration-color: #008000\">'type'</span>: <span style=\"color: #008000; text-decoration-color: #008000\">'string'</span><span style=\"font-weight: bold\">}</span>,\n",
       "                <span style=\"color: #008000; text-decoration-color: #008000\">'category'</span>: <span style=\"font-weight: bold\">{</span><span style=\"color: #008000; text-decoration-color: #008000\">'$ref'</span>: <span style=\"color: #008000; text-decoration-color: #008000\">'#/$defs/Category'</span><span style=\"font-weight: bold\">}</span>\n",
       "            <span style=\"font-weight: bold\">}</span>,\n",
       "            <span style=\"color: #008000; text-decoration-color: #008000\">'required'</span>: <span style=\"font-weight: bold\">[</span><span style=\"color: #008000; text-decoration-color: #008000\">'content'</span>, <span style=\"color: #008000; text-decoration-color: #008000\">'category'</span><span style=\"font-weight: bold\">]</span>,\n",
       "            <span style=\"color: #008000; text-decoration-color: #008000\">'title'</span>: <span style=\"color: #008000; text-decoration-color: #008000\">'Change'</span>,\n",
       "            <span style=\"color: #008000; text-decoration-color: #008000\">'type'</span>: <span style=\"color: #008000; text-decoration-color: #008000\">'object'</span>\n",
       "        <span style=\"font-weight: bold\">}</span>,\n",
       "        <span style=\"color: #008000; text-decoration-color: #008000\">'Date'</span>: <span style=\"font-weight: bold\">{</span>\n",
       "            <span style=\"color: #008000; text-decoration-color: #008000\">'properties'</span>: <span style=\"font-weight: bold\">{</span>\n",
       "                <span style=\"color: #008000; text-decoration-color: #008000\">'year'</span>: <span style=\"font-weight: bold\">{</span><span style=\"color: #008000; text-decoration-color: #008000\">'title'</span>: <span style=\"color: #008000; text-decoration-color: #008000\">'Year'</span>, <span style=\"color: #008000; text-decoration-color: #008000\">'type'</span>: <span style=\"color: #008000; text-decoration-color: #008000\">'integer'</span><span style=\"font-weight: bold\">}</span>,\n",
       "                <span style=\"color: #008000; text-decoration-color: #008000\">'month'</span>: <span style=\"font-weight: bold\">{</span><span style=\"color: #008000; text-decoration-color: #008000\">'title'</span>: <span style=\"color: #008000; text-decoration-color: #008000\">'Month'</span>, <span style=\"color: #008000; text-decoration-color: #008000\">'type'</span>: <span style=\"color: #008000; text-decoration-color: #008000\">'integer'</span><span style=\"font-weight: bold\">}</span>,\n",
       "                <span style=\"color: #008000; text-decoration-color: #008000\">'day'</span>: <span style=\"font-weight: bold\">{</span><span style=\"color: #008000; text-decoration-color: #008000\">'title'</span>: <span style=\"color: #008000; text-decoration-color: #008000\">'Day'</span>, <span style=\"color: #008000; text-decoration-color: #008000\">'type'</span>: <span style=\"color: #008000; text-decoration-color: #008000\">'integer'</span><span style=\"font-weight: bold\">}</span>\n",
       "            <span style=\"font-weight: bold\">}</span>,\n",
       "            <span style=\"color: #008000; text-decoration-color: #008000\">'required'</span>: <span style=\"font-weight: bold\">[</span><span style=\"color: #008000; text-decoration-color: #008000\">'year'</span>, <span style=\"color: #008000; text-decoration-color: #008000\">'month'</span>, <span style=\"color: #008000; text-decoration-color: #008000\">'day'</span><span style=\"font-weight: bold\">]</span>,\n",
       "            <span style=\"color: #008000; text-decoration-color: #008000\">'title'</span>: <span style=\"color: #008000; text-decoration-color: #008000\">'Date'</span>,\n",
       "            <span style=\"color: #008000; text-decoration-color: #008000\">'type'</span>: <span style=\"color: #008000; text-decoration-color: #008000\">'object'</span>\n",
       "        <span style=\"font-weight: bold\">}</span>,\n",
       "        <span style=\"color: #008000; text-decoration-color: #008000\">'Entry'</span>: <span style=\"font-weight: bold\">{</span>\n",
       "            <span style=\"color: #008000; text-decoration-color: #008000\">'properties'</span>: <span style=\"font-weight: bold\">{</span>\n",
       "                <span style=\"color: #008000; text-decoration-color: #008000\">'date'</span>: <span style=\"font-weight: bold\">{</span><span style=\"color: #008000; text-decoration-color: #008000\">'$ref'</span>: <span style=\"color: #008000; text-decoration-color: #008000\">'#/$defs/Date'</span><span style=\"font-weight: bold\">}</span>,\n",
       "                <span style=\"color: #008000; text-decoration-color: #008000\">'changes'</span>: <span style=\"font-weight: bold\">{</span>\n",
       "                    <span style=\"color: #008000; text-decoration-color: #008000\">'description'</span>: <span style=\"color: #008000; text-decoration-color: #008000\">'The changes made'</span>,\n",
       "                    <span style=\"color: #008000; text-decoration-color: #008000\">'items'</span>: <span style=\"font-weight: bold\">{</span><span style=\"color: #008000; text-decoration-color: #008000\">'$ref'</span>: <span style=\"color: #008000; text-decoration-color: #008000\">'#/$defs/Change'</span><span style=\"font-weight: bold\">}</span>,\n",
       "                    <span style=\"color: #008000; text-decoration-color: #008000\">'title'</span>: <span style=\"color: #008000; text-decoration-color: #008000\">'Changes'</span>,\n",
       "                    <span style=\"color: #008000; text-decoration-color: #008000\">'type'</span>: <span style=\"color: #008000; text-decoration-color: #008000\">'array'</span>\n",
       "                <span style=\"font-weight: bold\">}</span>\n",
       "            <span style=\"font-weight: bold\">}</span>,\n",
       "            <span style=\"color: #008000; text-decoration-color: #008000\">'required'</span>: <span style=\"font-weight: bold\">[</span><span style=\"color: #008000; text-decoration-color: #008000\">'date'</span>, <span style=\"color: #008000; text-decoration-color: #008000\">'changes'</span><span style=\"font-weight: bold\">]</span>,\n",
       "            <span style=\"color: #008000; text-decoration-color: #008000\">'title'</span>: <span style=\"color: #008000; text-decoration-color: #008000\">'Entry'</span>,\n",
       "            <span style=\"color: #008000; text-decoration-color: #008000\">'type'</span>: <span style=\"color: #008000; text-decoration-color: #008000\">'object'</span>\n",
       "        <span style=\"font-weight: bold\">}</span>\n",
       "    <span style=\"font-weight: bold\">}</span>,\n",
       "    <span style=\"color: #008000; text-decoration-color: #008000\">'properties'</span>: <span style=\"font-weight: bold\">{</span><span style=\"color: #008000; text-decoration-color: #008000\">'entries'</span>: <span style=\"font-weight: bold\">{</span><span style=\"color: #008000; text-decoration-color: #008000\">'items'</span>: <span style=\"font-weight: bold\">{</span><span style=\"color: #008000; text-decoration-color: #008000\">'$ref'</span>: <span style=\"color: #008000; text-decoration-color: #008000\">'#/$defs/Entry'</span><span style=\"font-weight: bold\">}</span>, <span style=\"color: #008000; text-decoration-color: #008000\">'title'</span>: <span style=\"color: #008000; text-decoration-color: #008000\">'Entries'</span>, <span style=\"color: #008000; text-decoration-color: #008000\">'type'</span>: <span style=\"color: #008000; text-decoration-color: #008000\">'array'</span><span style=\"font-weight: bold\">}}</span>,\n",
       "    <span style=\"color: #008000; text-decoration-color: #008000\">'required'</span>: <span style=\"font-weight: bold\">[</span><span style=\"color: #008000; text-decoration-color: #008000\">'entries'</span><span style=\"font-weight: bold\">]</span>,\n",
       "    <span style=\"color: #008000; text-decoration-color: #008000\">'title'</span>: <span style=\"color: #008000; text-decoration-color: #008000\">'Changelog'</span>,\n",
       "    <span style=\"color: #008000; text-decoration-color: #008000\">'type'</span>: <span style=\"color: #008000; text-decoration-color: #008000\">'object'</span>\n",
       "<span style=\"font-weight: bold\">}</span>\n",
       "</pre>\n"
      ],
      "text/plain": [
       "\u001b[1m{\u001b[0m\n",
       "    \u001b[32m'$defs'\u001b[0m: \u001b[1m{\u001b[0m\n",
       "        \u001b[32m'Category'\u001b[0m: \u001b[1m{\u001b[0m\n",
       "            \u001b[32m'enum'\u001b[0m: \u001b[1m[\u001b[0m\n",
       "                \u001b[32m'breaking changes'\u001b[0m,\n",
       "                \u001b[32m'new features'\u001b[0m,\n",
       "                \u001b[32m'deprecations'\u001b[0m,\n",
       "                \u001b[32m'bug fixes'\u001b[0m,\n",
       "                \u001b[32m'performance improvements'\u001b[0m,\n",
       "                \u001b[32m'security updates'\u001b[0m\n",
       "            \u001b[1m]\u001b[0m,\n",
       "            \u001b[32m'title'\u001b[0m: \u001b[32m'Category'\u001b[0m,\n",
       "            \u001b[32m'type'\u001b[0m: \u001b[32m'string'\u001b[0m\n",
       "        \u001b[1m}\u001b[0m,\n",
       "        \u001b[32m'Change'\u001b[0m: \u001b[1m{\u001b[0m\n",
       "            \u001b[32m'properties'\u001b[0m: \u001b[1m{\u001b[0m\n",
       "                \u001b[32m'content'\u001b[0m: \u001b[1m{\u001b[0m\u001b[32m'title'\u001b[0m: \u001b[32m'Content'\u001b[0m, \u001b[32m'type'\u001b[0m: \u001b[32m'string'\u001b[0m\u001b[1m}\u001b[0m,\n",
       "                \u001b[32m'category'\u001b[0m: \u001b[1m{\u001b[0m\u001b[32m'$ref'\u001b[0m: \u001b[32m'#/$defs/Category'\u001b[0m\u001b[1m}\u001b[0m\n",
       "            \u001b[1m}\u001b[0m,\n",
       "            \u001b[32m'required'\u001b[0m: \u001b[1m[\u001b[0m\u001b[32m'content'\u001b[0m, \u001b[32m'category'\u001b[0m\u001b[1m]\u001b[0m,\n",
       "            \u001b[32m'title'\u001b[0m: \u001b[32m'Change'\u001b[0m,\n",
       "            \u001b[32m'type'\u001b[0m: \u001b[32m'object'\u001b[0m\n",
       "        \u001b[1m}\u001b[0m,\n",
       "        \u001b[32m'Date'\u001b[0m: \u001b[1m{\u001b[0m\n",
       "            \u001b[32m'properties'\u001b[0m: \u001b[1m{\u001b[0m\n",
       "                \u001b[32m'year'\u001b[0m: \u001b[1m{\u001b[0m\u001b[32m'title'\u001b[0m: \u001b[32m'Year'\u001b[0m, \u001b[32m'type'\u001b[0m: \u001b[32m'integer'\u001b[0m\u001b[1m}\u001b[0m,\n",
       "                \u001b[32m'month'\u001b[0m: \u001b[1m{\u001b[0m\u001b[32m'title'\u001b[0m: \u001b[32m'Month'\u001b[0m, \u001b[32m'type'\u001b[0m: \u001b[32m'integer'\u001b[0m\u001b[1m}\u001b[0m,\n",
       "                \u001b[32m'day'\u001b[0m: \u001b[1m{\u001b[0m\u001b[32m'title'\u001b[0m: \u001b[32m'Day'\u001b[0m, \u001b[32m'type'\u001b[0m: \u001b[32m'integer'\u001b[0m\u001b[1m}\u001b[0m\n",
       "            \u001b[1m}\u001b[0m,\n",
       "            \u001b[32m'required'\u001b[0m: \u001b[1m[\u001b[0m\u001b[32m'year'\u001b[0m, \u001b[32m'month'\u001b[0m, \u001b[32m'day'\u001b[0m\u001b[1m]\u001b[0m,\n",
       "            \u001b[32m'title'\u001b[0m: \u001b[32m'Date'\u001b[0m,\n",
       "            \u001b[32m'type'\u001b[0m: \u001b[32m'object'\u001b[0m\n",
       "        \u001b[1m}\u001b[0m,\n",
       "        \u001b[32m'Entry'\u001b[0m: \u001b[1m{\u001b[0m\n",
       "            \u001b[32m'properties'\u001b[0m: \u001b[1m{\u001b[0m\n",
       "                \u001b[32m'date'\u001b[0m: \u001b[1m{\u001b[0m\u001b[32m'$ref'\u001b[0m: \u001b[32m'#/$defs/Date'\u001b[0m\u001b[1m}\u001b[0m,\n",
       "                \u001b[32m'changes'\u001b[0m: \u001b[1m{\u001b[0m\n",
       "                    \u001b[32m'description'\u001b[0m: \u001b[32m'The changes made'\u001b[0m,\n",
       "                    \u001b[32m'items'\u001b[0m: \u001b[1m{\u001b[0m\u001b[32m'$ref'\u001b[0m: \u001b[32m'#/$defs/Change'\u001b[0m\u001b[1m}\u001b[0m,\n",
       "                    \u001b[32m'title'\u001b[0m: \u001b[32m'Changes'\u001b[0m,\n",
       "                    \u001b[32m'type'\u001b[0m: \u001b[32m'array'\u001b[0m\n",
       "                \u001b[1m}\u001b[0m\n",
       "            \u001b[1m}\u001b[0m,\n",
       "            \u001b[32m'required'\u001b[0m: \u001b[1m[\u001b[0m\u001b[32m'date'\u001b[0m, \u001b[32m'changes'\u001b[0m\u001b[1m]\u001b[0m,\n",
       "            \u001b[32m'title'\u001b[0m: \u001b[32m'Entry'\u001b[0m,\n",
       "            \u001b[32m'type'\u001b[0m: \u001b[32m'object'\u001b[0m\n",
       "        \u001b[1m}\u001b[0m\n",
       "    \u001b[1m}\u001b[0m,\n",
       "    \u001b[32m'properties'\u001b[0m: \u001b[1m{\u001b[0m\u001b[32m'entries'\u001b[0m: \u001b[1m{\u001b[0m\u001b[32m'items'\u001b[0m: \u001b[1m{\u001b[0m\u001b[32m'$ref'\u001b[0m: \u001b[32m'#/$defs/Entry'\u001b[0m\u001b[1m}\u001b[0m, \u001b[32m'title'\u001b[0m: \u001b[32m'Entries'\u001b[0m, \u001b[32m'type'\u001b[0m: \u001b[32m'array'\u001b[0m\u001b[1m}\u001b[0m\u001b[1m}\u001b[0m,\n",
       "    \u001b[32m'required'\u001b[0m: \u001b[1m[\u001b[0m\u001b[32m'entries'\u001b[0m\u001b[1m]\u001b[0m,\n",
       "    \u001b[32m'title'\u001b[0m: \u001b[32m'Changelog'\u001b[0m,\n",
       "    \u001b[32m'type'\u001b[0m: \u001b[32m'object'\u001b[0m\n",
       "\u001b[1m}\u001b[0m\n"
      ]
     },
     "metadata": {},
     "output_type": "display_data"
    }
   ],
   "source": [
    "class Category(str, Enum):\n",
    "    BREAKING_CHANGES = \"breaking changes\"\n",
    "    NEW_FEATURES = \"new features\"\n",
    "    DEPRECATIONS = \"deprecations\"\n",
    "    BUG_FIXES = \"bug fixes\"\n",
    "    PERFORMANCE_IMPROVEMENTS = \"performance improvements\"\n",
    "    SECURITY_UPDATES = \"security updates\"\n",
    "\n",
    "\n",
    "class Date(BaseModel):\n",
    "    year: int\n",
    "    month: int\n",
    "    day: int\n",
    "\n",
    "\n",
    "class Change(BaseModel):\n",
    "    content: str\n",
    "    category: Category\n",
    "\n",
    "\n",
    "class Entry(BaseModel):\n",
    "    date: Date\n",
    "    changes: list[Change] = Field(..., description=\"The changes made\")\n",
    "\n",
    "\n",
    "class Changelog(BaseModel):\n",
    "    entries: list[Entry]\n",
    "\n",
    "\n",
    "print(Changelog.model_json_schema())"
   ]
  },
  {
   "cell_type": "code",
   "execution_count": 7,
   "id": "824708ee-9a73-45de-a06f-d99ab8a661a8",
   "metadata": {
    "scrolled": true
   },
   "outputs": [
    {
     "data": {
      "text/html": [
       "<pre style=\"white-space:pre;overflow-x:auto;line-height:normal;font-family:Menlo,'DejaVu Sans Mono',consolas,'Courier New',monospace\"><span style=\"color: #800080; text-decoration-color: #800080; font-weight: bold\">Changelog</span><span style=\"font-weight: bold\">(</span>\n",
       "    <span style=\"color: #808000; text-decoration-color: #808000\">entries</span>=<span style=\"font-weight: bold\">[</span>\n",
       "        <span style=\"color: #800080; text-decoration-color: #800080; font-weight: bold\">Entry</span><span style=\"font-weight: bold\">(</span>\n",
       "            <span style=\"color: #808000; text-decoration-color: #808000\">date</span>=<span style=\"color: #800080; text-decoration-color: #800080; font-weight: bold\">Date</span><span style=\"font-weight: bold\">(</span><span style=\"color: #808000; text-decoration-color: #808000\">year</span>=<span style=\"color: #008080; text-decoration-color: #008080; font-weight: bold\">2025</span>, <span style=\"color: #808000; text-decoration-color: #808000\">month</span>=<span style=\"color: #008080; text-decoration-color: #008080; font-weight: bold\">1</span>, <span style=\"color: #808000; text-decoration-color: #808000\">day</span>=<span style=\"color: #008080; text-decoration-color: #008080; font-weight: bold\">9</span><span style=\"font-weight: bold\">)</span>,\n",
       "            <span style=\"color: #808000; text-decoration-color: #808000\">changes</span>=<span style=\"font-weight: bold\">[</span>\n",
       "                <span style=\"color: #800080; text-decoration-color: #800080; font-weight: bold\">Change</span><span style=\"font-weight: bold\">(</span>\n",
       "                    <span style=\"color: #808000; text-decoration-color: #808000\">content</span>=<span style=\"color: #008000; text-decoration-color: #008000\">'FIX Market Data will be available at January 16, 05:00 UTC. The FIX API documentation </span>\n",
       "<span style=\"color: #008000; text-decoration-color: #008000\">has been updated regarding this feature.'</span>,\n",
       "                    <span style=\"color: #808000; text-decoration-color: #808000\">category</span>=<span style=\"font-weight: bold\">&lt;</span><span style=\"color: #ff00ff; text-decoration-color: #ff00ff; font-weight: bold\">Category.NEW_FEATURES:</span><span style=\"color: #000000; text-decoration-color: #000000\"> </span><span style=\"color: #008000; text-decoration-color: #008000\">'new features'</span><span style=\"color: #000000; text-decoration-color: #000000\">&gt;</span>\n",
       "<span style=\"color: #000000; text-decoration-color: #000000\">                </span><span style=\"color: #000000; text-decoration-color: #000000; font-weight: bold\">)</span>\n",
       "<span style=\"color: #000000; text-decoration-color: #000000\">            </span><span style=\"color: #000000; text-decoration-color: #000000; font-weight: bold\">]</span>\n",
       "<span style=\"color: #000000; text-decoration-color: #000000\">        </span><span style=\"color: #000000; text-decoration-color: #000000; font-weight: bold\">)</span><span style=\"color: #000000; text-decoration-color: #000000\">,</span>\n",
       "<span style=\"color: #000000; text-decoration-color: #000000\">        </span><span style=\"color: #800080; text-decoration-color: #800080; font-weight: bold\">Entry</span><span style=\"color: #000000; text-decoration-color: #000000; font-weight: bold\">(</span>\n",
       "<span style=\"color: #000000; text-decoration-color: #000000\">            </span><span style=\"color: #808000; text-decoration-color: #808000\">date</span><span style=\"color: #000000; text-decoration-color: #000000\">=</span><span style=\"color: #800080; text-decoration-color: #800080; font-weight: bold\">Date</span><span style=\"color: #000000; text-decoration-color: #000000; font-weight: bold\">(</span><span style=\"color: #808000; text-decoration-color: #808000\">year</span><span style=\"color: #000000; text-decoration-color: #000000\">=</span><span style=\"color: #008080; text-decoration-color: #008080; font-weight: bold\">2024</span><span style=\"color: #000000; text-decoration-color: #000000\">, </span><span style=\"color: #808000; text-decoration-color: #808000\">month</span><span style=\"color: #000000; text-decoration-color: #000000\">=</span><span style=\"color: #008080; text-decoration-color: #008080; font-weight: bold\">12</span><span style=\"color: #000000; text-decoration-color: #000000\">, </span><span style=\"color: #808000; text-decoration-color: #808000\">day</span><span style=\"color: #000000; text-decoration-color: #000000\">=</span><span style=\"color: #008080; text-decoration-color: #008080; font-weight: bold\">17</span><span style=\"color: #000000; text-decoration-color: #000000; font-weight: bold\">)</span><span style=\"color: #000000; text-decoration-color: #000000\">,</span>\n",
       "<span style=\"color: #000000; text-decoration-color: #000000\">            </span><span style=\"color: #808000; text-decoration-color: #808000\">changes</span><span style=\"color: #000000; text-decoration-color: #000000\">=</span><span style=\"color: #000000; text-decoration-color: #000000; font-weight: bold\">[</span>\n",
       "<span style=\"color: #000000; text-decoration-color: #000000\">                </span><span style=\"color: #800080; text-decoration-color: #800080; font-weight: bold\">Change</span><span style=\"color: #000000; text-decoration-color: #000000; font-weight: bold\">(</span>\n",
       "<span style=\"color: #000000; text-decoration-color: #000000\">                    </span><span style=\"color: #808000; text-decoration-color: #808000\">content</span><span style=\"color: #000000; text-decoration-color: #000000\">=</span><span style=\"color: #008000; text-decoration-color: #008000\">'The system now supports microseconds in all related time and/or timestamp fields. </span>\n",
       "<span style=\"color: #008000; text-decoration-color: #008000\">Microsecond support is opt-in, by default the requests and responses still use milliseconds.'</span><span style=\"color: #000000; text-decoration-color: #000000\">,</span>\n",
       "<span style=\"color: #000000; text-decoration-color: #000000\">                    </span><span style=\"color: #808000; text-decoration-color: #808000\">category</span><span style=\"color: #000000; text-decoration-color: #000000\">=&lt;Category.NEW_FEATURES: </span><span style=\"color: #008000; text-decoration-color: #008000\">'new features'</span><span style=\"color: #000000; text-decoration-color: #000000\">&gt;</span>\n",
       "<span style=\"color: #000000; text-decoration-color: #000000\">                </span><span style=\"color: #000000; text-decoration-color: #000000; font-weight: bold\">)</span><span style=\"color: #000000; text-decoration-color: #000000\">,</span>\n",
       "<span style=\"color: #000000; text-decoration-color: #000000\">                </span><span style=\"color: #800080; text-decoration-color: #800080; font-weight: bold\">Change</span><span style=\"color: #000000; text-decoration-color: #000000; font-weight: bold\">(</span>\n",
       "<span style=\"color: #000000; text-decoration-color: #000000\">                    </span><span style=\"color: #808000; text-decoration-color: #808000\">content</span><span style=\"color: #000000; text-decoration-color: #000000\">=</span><span style=\"color: #008000; text-decoration-color: #008000\">'A new optional parameter `timeUnit` can be used in the connection URL to select the </span>\n",
       "<span style=\"color: #008000; text-decoration-color: #008000\">time unit for WebSocket Streams.'</span><span style=\"color: #000000; text-decoration-color: #000000\">,</span>\n",
       "<span style=\"color: #000000; text-decoration-color: #000000\">                    </span><span style=\"color: #808000; text-decoration-color: #808000\">category</span><span style=\"color: #000000; text-decoration-color: #000000\">=&lt;Category.NEW_FEATURES: </span><span style=\"color: #008000; text-decoration-color: #008000\">'new features'</span><span style=\"color: #000000; text-decoration-color: #000000\">&gt;</span>\n",
       "<span style=\"color: #000000; text-decoration-color: #000000\">                </span><span style=\"color: #000000; text-decoration-color: #000000; font-weight: bold\">)</span><span style=\"color: #000000; text-decoration-color: #000000\">,</span>\n",
       "<span style=\"color: #000000; text-decoration-color: #000000\">                </span><span style=\"color: #800080; text-decoration-color: #800080; font-weight: bold\">Change</span><span style=\"color: #000000; text-decoration-color: #000000; font-weight: bold\">(</span>\n",
       "<span style=\"color: #000000; text-decoration-color: #000000\">                    </span><span style=\"color: #808000; text-decoration-color: #808000\">content</span><span style=\"color: #000000; text-decoration-color: #000000\">=</span><span style=\"color: #008000; text-decoration-color: #008000\">'A new optional header `X-MBX-TIME-UNIT` can be sent in the request to select the time </span>\n",
       "<span style=\"color: #008000; text-decoration-color: #008000\">unit for REST API.'</span><span style=\"color: #000000; text-decoration-color: #000000\">,</span>\n",
       "<span style=\"color: #000000; text-decoration-color: #000000\">                    </span><span style=\"color: #808000; text-decoration-color: #808000\">category</span><span style=\"color: #000000; text-decoration-color: #000000\">=&lt;Category.NEW_FEATURES: </span><span style=\"color: #008000; text-decoration-color: #008000\">'new features'</span><span style=\"color: #000000; text-decoration-color: #000000\">&gt;</span>\n",
       "<span style=\"color: #000000; text-decoration-color: #000000\">                </span><span style=\"color: #000000; text-decoration-color: #000000; font-weight: bold\">)</span><span style=\"color: #000000; text-decoration-color: #000000\">,</span>\n",
       "<span style=\"color: #000000; text-decoration-color: #000000\">                </span><span style=\"color: #800080; text-decoration-color: #800080; font-weight: bold\">Change</span><span style=\"color: #000000; text-decoration-color: #000000; font-weight: bold\">(</span>\n",
       "<span style=\"color: #000000; text-decoration-color: #000000\">                    </span><span style=\"color: #808000; text-decoration-color: #808000\">content</span><span style=\"color: #000000; text-decoration-color: #000000\">=</span><span style=\"color: #008000; text-decoration-color: #008000\">'Timestamp parameters can now be passed in milliseconds or microseconds for REST API.'</span><span style=\"color: #000000; text-decoration-color: #000000\">,</span>\n",
       "<span style=\"color: #000000; text-decoration-color: #000000\">                    </span><span style=\"color: #808000; text-decoration-color: #808000\">category</span><span style=\"color: #000000; text-decoration-color: #000000\">=&lt;Category.NEW_FEATURES: </span><span style=\"color: #008000; text-decoration-color: #008000\">'new features'</span><span style=\"color: #000000; text-decoration-color: #000000\">&gt;</span>\n",
       "<span style=\"color: #000000; text-decoration-color: #000000\">                </span><span style=\"color: #000000; text-decoration-color: #000000; font-weight: bold\">)</span><span style=\"color: #000000; text-decoration-color: #000000\">,</span>\n",
       "<span style=\"color: #000000; text-decoration-color: #000000\">                </span><span style=\"color: #800080; text-decoration-color: #800080; font-weight: bold\">Change</span><span style=\"color: #000000; text-decoration-color: #000000; font-weight: bold\">(</span>\n",
       "<span style=\"color: #000000; text-decoration-color: #000000\">                    </span><span style=\"color: #808000; text-decoration-color: #808000\">content</span><span style=\"color: #000000; text-decoration-color: #000000\">=</span><span style=\"color: #008000; text-decoration-color: #008000\">'A new optional parameter `timeUnit` can be used in the connection URL to select the </span>\n",
       "<span style=\"color: #008000; text-decoration-color: #008000\">time unit for WebSocket API.'</span><span style=\"color: #000000; text-decoration-color: #000000\">,</span>\n",
       "<span style=\"color: #000000; text-decoration-color: #000000\">                    </span><span style=\"color: #808000; text-decoration-color: #808000\">category</span><span style=\"color: #000000; text-decoration-color: #000000\">=&lt;Category.NEW_FEATURES: </span><span style=\"color: #008000; text-decoration-color: #008000\">'new features'</span><span style=\"color: #000000; text-decoration-color: #000000\">&gt;</span>\n",
       "<span style=\"color: #000000; text-decoration-color: #000000\">                </span><span style=\"color: #000000; text-decoration-color: #000000; font-weight: bold\">)</span><span style=\"color: #000000; text-decoration-color: #000000\">,</span>\n",
       "<span style=\"color: #000000; text-decoration-color: #000000\">                </span><span style=\"color: #800080; text-decoration-color: #800080; font-weight: bold\">Change</span><span style=\"color: #000000; text-decoration-color: #000000; font-weight: bold\">(</span>\n",
       "<span style=\"color: #000000; text-decoration-color: #000000\">                    </span><span style=\"color: #808000; text-decoration-color: #808000\">content</span><span style=\"color: #000000; text-decoration-color: #000000\">=</span><span style=\"color: #008000; text-decoration-color: #008000\">'Timestamp parameters can now be passed in milliseconds or microseconds for WebSocket </span>\n",
       "<span style=\"color: #008000; text-decoration-color: #008000\">API.'</span><span style=\"color: #000000; text-decoration-color: #000000\">,</span>\n",
       "<span style=\"color: #000000; text-decoration-color: #000000\">                    </span><span style=\"color: #808000; text-decoration-color: #808000\">category</span><span style=\"color: #000000; text-decoration-color: #000000\">=&lt;Category.NEW_FEATURES: </span><span style=\"color: #008000; text-decoration-color: #008000\">'new features'</span><span style=\"color: #000000; text-decoration-color: #000000\">&gt;</span>\n",
       "<span style=\"color: #000000; text-decoration-color: #000000\">                </span><span style=\"color: #000000; text-decoration-color: #000000; font-weight: bold\">)</span><span style=\"color: #000000; text-decoration-color: #000000\">,</span>\n",
       "<span style=\"color: #000000; text-decoration-color: #000000\">                </span><span style=\"color: #800080; text-decoration-color: #800080; font-weight: bold\">Change</span><span style=\"color: #000000; text-decoration-color: #000000; font-weight: bold\">(</span>\n",
       "<span style=\"color: #000000; text-decoration-color: #000000\">                    </span><span style=\"color: #808000; text-decoration-color: #808000\">content</span><span style=\"color: #000000; text-decoration-color: #000000\">=</span><span style=\"color: #008000; text-decoration-color: #008000\">'A new optional parameter `timeUnit` can be used in the connection URL to select the </span>\n",
       "<span style=\"color: #008000; text-decoration-color: #008000\">time unit for User Data Streams.'</span><span style=\"color: #000000; text-decoration-color: #000000\">,</span>\n",
       "<span style=\"color: #000000; text-decoration-color: #000000\">                    </span><span style=\"color: #808000; text-decoration-color: #808000\">category</span><span style=\"color: #000000; text-decoration-color: #000000\">=&lt;Category.NEW_FEATURES: </span><span style=\"color: #008000; text-decoration-color: #008000\">'new features'</span><span style=\"color: #000000; text-decoration-color: #000000\">&gt;</span>\n",
       "<span style=\"color: #000000; text-decoration-color: #000000\">                </span><span style=\"color: #000000; text-decoration-color: #000000; font-weight: bold\">)</span>\n",
       "<span style=\"color: #000000; text-decoration-color: #000000\">            </span><span style=\"color: #000000; text-decoration-color: #000000; font-weight: bold\">]</span>\n",
       "<span style=\"color: #000000; text-decoration-color: #000000\">        </span><span style=\"color: #000000; text-decoration-color: #000000; font-weight: bold\">)</span><span style=\"color: #000000; text-decoration-color: #000000\">,</span>\n",
       "<span style=\"color: #000000; text-decoration-color: #000000\">        </span><span style=\"color: #800080; text-decoration-color: #800080; font-weight: bold\">Entry</span><span style=\"color: #000000; text-decoration-color: #000000; font-weight: bold\">(</span>\n",
       "<span style=\"color: #000000; text-decoration-color: #000000\">            </span><span style=\"color: #808000; text-decoration-color: #808000\">date</span><span style=\"color: #000000; text-decoration-color: #000000\">=</span><span style=\"color: #800080; text-decoration-color: #800080; font-weight: bold\">Date</span><span style=\"color: #000000; text-decoration-color: #000000; font-weight: bold\">(</span><span style=\"color: #808000; text-decoration-color: #808000\">year</span><span style=\"color: #000000; text-decoration-color: #000000\">=</span><span style=\"color: #008080; text-decoration-color: #008080; font-weight: bold\">2024</span><span style=\"color: #000000; text-decoration-color: #000000\">, </span><span style=\"color: #808000; text-decoration-color: #808000\">month</span><span style=\"color: #000000; text-decoration-color: #000000\">=</span><span style=\"color: #008080; text-decoration-color: #008080; font-weight: bold\">12</span><span style=\"color: #000000; text-decoration-color: #000000\">, </span><span style=\"color: #808000; text-decoration-color: #808000\">day</span><span style=\"color: #000000; text-decoration-color: #000000\">=</span><span style=\"color: #008080; text-decoration-color: #008080; font-weight: bold\">9</span><span style=\"color: #000000; text-decoration-color: #000000; font-weight: bold\">)</span><span style=\"color: #000000; text-decoration-color: #000000\">,</span>\n",
       "<span style=\"color: #000000; text-decoration-color: #000000\">            </span><span style=\"color: #808000; text-decoration-color: #808000\">changes</span><span style=\"color: #000000; text-decoration-color: #000000\">=</span><span style=\"color: #000000; text-decoration-color: #000000; font-weight: bold\">[</span>\n",
       "<span style=\"color: #000000; text-decoration-color: #000000\">                </span><span style=\"color: #800080; text-decoration-color: #800080; font-weight: bold\">Change</span><span style=\"color: #000000; text-decoration-color: #000000; font-weight: bold\">(</span>\n",
       "<span style=\"color: #000000; text-decoration-color: #000000\">                    </span><span style=\"color: #808000; text-decoration-color: #808000\">content</span><span style=\"color: #000000; text-decoration-color: #000000\">=</span><span style=\"color: #008000; text-decoration-color: #008000\">'Timestamp parameters now reject values too far into the past or the future.'</span><span style=\"color: #000000; text-decoration-color: #000000\">,</span>\n",
       "<span style=\"color: #000000; text-decoration-color: #000000\">                    </span><span style=\"color: #808000; text-decoration-color: #808000\">category</span><span style=\"color: #000000; text-decoration-color: #000000\">=&lt;Category.BREAKING_CHANGES: </span><span style=\"color: #008000; text-decoration-color: #008000\">'breaking changes'</span><span style=\"color: #000000; text-decoration-color: #000000\">&gt;</span>\n",
       "<span style=\"color: #000000; text-decoration-color: #000000\">                </span><span style=\"color: #000000; text-decoration-color: #000000; font-weight: bold\">)</span><span style=\"color: #000000; text-decoration-color: #000000\">,</span>\n",
       "<span style=\"color: #000000; text-decoration-color: #000000\">                </span><span style=\"color: #800080; text-decoration-color: #800080; font-weight: bold\">Change</span><span style=\"color: #000000; text-decoration-color: #000000; font-weight: bold\">(</span>\n",
       "<span style=\"color: #000000; text-decoration-color: #000000\">                    </span><span style=\"color: #808000; text-decoration-color: #808000\">content</span><span style=\"color: #000000; text-decoration-color: #000000\">=</span><span style=\"color: #008000; text-decoration-color: #008000\">'The field for quote order quantity (`origQuoteOrderQty`) has been added to responses </span>\n",
       "<span style=\"color: #008000; text-decoration-color: #008000\">that previously did not have it.'</span><span style=\"color: #000000; text-decoration-color: #000000\">,</span>\n",
       "<span style=\"color: #000000; text-decoration-color: #000000\">                    </span><span style=\"color: #808000; text-decoration-color: #808000\">category</span><span style=\"color: #000000; text-decoration-color: #000000\">=&lt;Category.NEW_FEATURES: </span><span style=\"color: #008000; text-decoration-color: #008000\">'new features'</span><span style=\"color: #000000; text-decoration-color: #000000\">&gt;</span>\n",
       "<span style=\"color: #000000; text-decoration-color: #000000\">                </span><span style=\"color: #000000; text-decoration-color: #000000; font-weight: bold\">)</span><span style=\"color: #000000; text-decoration-color: #000000\">,</span>\n",
       "<span style=\"color: #000000; text-decoration-color: #000000\">                </span><span style=\"color: #800080; text-decoration-color: #800080; font-weight: bold\">Change</span><span style=\"color: #000000; text-decoration-color: #000000; font-weight: bold\">(</span>\n",
       "<span style=\"color: #000000; text-decoration-color: #000000\">                    </span><span style=\"color: #808000; text-decoration-color: #808000\">content</span><span style=\"color: #000000; text-decoration-color: #000000\">=</span><span style=\"color: #008000; text-decoration-color: #008000\">'A new schema 2:1 spot_2_1.xml has been released. The current schema 2:0 spot_2_0.xml </span>\n",
       "<span style=\"color: #008000; text-decoration-color: #008000\">will thus be deprecated, and retired from the API in 6 months as per our schema deprecation policy.'</span><span style=\"color: #000000; text-decoration-color: #000000\">,</span>\n",
       "<span style=\"color: #000000; text-decoration-color: #000000\">                    </span><span style=\"color: #808000; text-decoration-color: #808000\">category</span><span style=\"color: #000000; text-decoration-color: #000000\">=&lt;Category.DEPRECATIONS: </span><span style=\"color: #008000; text-decoration-color: #008000\">'deprecations'</span><span style=\"color: #000000; text-decoration-color: #000000\">&gt;</span>\n",
       "<span style=\"color: #000000; text-decoration-color: #000000\">                </span><span style=\"color: #000000; text-decoration-color: #000000; font-weight: bold\">)</span><span style=\"color: #000000; text-decoration-color: #000000\">,</span>\n",
       "<span style=\"color: #000000; text-decoration-color: #000000\">                </span><span style=\"color: #800080; text-decoration-color: #800080; font-weight: bold\">Change</span><span style=\"color: #000000; text-decoration-color: #000000; font-weight: bold\">(</span>\n",
       "<span style=\"color: #000000; text-decoration-color: #000000\">                    </span><span style=\"color: #808000; text-decoration-color: #808000\">content</span><span style=\"color: #000000; text-decoration-color: #000000\">=</span><span style=\"color: #008000; text-decoration-color: #008000\">'Schema 2:1 is a backward compatible update of schema 2:0.'</span><span style=\"color: #000000; text-decoration-color: #000000\">,</span>\n",
       "<span style=\"color: #000000; text-decoration-color: #000000\">                    </span><span style=\"color: #808000; text-decoration-color: #808000\">category</span><span style=\"color: #000000; text-decoration-color: #000000\">=&lt;Category.NEW_FEATURES: </span><span style=\"color: #008000; text-decoration-color: #008000\">'new features'</span><span style=\"font-weight: bold\">&gt;</span>\n",
       "                <span style=\"font-weight: bold\">)</span>\n",
       "            <span style=\"font-weight: bold\">]</span>\n",
       "        <span style=\"font-weight: bold\">)</span>\n",
       "    <span style=\"font-weight: bold\">]</span>\n",
       "<span style=\"font-weight: bold\">)</span>\n",
       "</pre>\n"
      ],
      "text/plain": [
       "\u001b[1;35mChangelog\u001b[0m\u001b[1m(\u001b[0m\n",
       "    \u001b[33mentries\u001b[0m=\u001b[1m[\u001b[0m\n",
       "        \u001b[1;35mEntry\u001b[0m\u001b[1m(\u001b[0m\n",
       "            \u001b[33mdate\u001b[0m=\u001b[1;35mDate\u001b[0m\u001b[1m(\u001b[0m\u001b[33myear\u001b[0m=\u001b[1;36m2025\u001b[0m, \u001b[33mmonth\u001b[0m=\u001b[1;36m1\u001b[0m, \u001b[33mday\u001b[0m=\u001b[1;36m9\u001b[0m\u001b[1m)\u001b[0m,\n",
       "            \u001b[33mchanges\u001b[0m=\u001b[1m[\u001b[0m\n",
       "                \u001b[1;35mChange\u001b[0m\u001b[1m(\u001b[0m\n",
       "                    \u001b[33mcontent\u001b[0m=\u001b[32m'FIX Market Data will be available at January 16, 05:00 UTC. The FIX API documentation \u001b[0m\n",
       "\u001b[32mhas been updated regarding this feature.'\u001b[0m,\n",
       "                    \u001b[33mcategory\u001b[0m=\u001b[1m<\u001b[0m\u001b[1;95mCategory.NEW_FEATURES:\u001b[0m\u001b[39m \u001b[0m\u001b[32m'new features'\u001b[0m\u001b[39m>\u001b[0m\n",
       "\u001b[39m                \u001b[0m\u001b[1;39m)\u001b[0m\n",
       "\u001b[39m            \u001b[0m\u001b[1;39m]\u001b[0m\n",
       "\u001b[39m        \u001b[0m\u001b[1;39m)\u001b[0m\u001b[39m,\u001b[0m\n",
       "\u001b[39m        \u001b[0m\u001b[1;35mEntry\u001b[0m\u001b[1;39m(\u001b[0m\n",
       "\u001b[39m            \u001b[0m\u001b[33mdate\u001b[0m\u001b[39m=\u001b[0m\u001b[1;35mDate\u001b[0m\u001b[1;39m(\u001b[0m\u001b[33myear\u001b[0m\u001b[39m=\u001b[0m\u001b[1;36m2024\u001b[0m\u001b[39m, \u001b[0m\u001b[33mmonth\u001b[0m\u001b[39m=\u001b[0m\u001b[1;36m12\u001b[0m\u001b[39m, \u001b[0m\u001b[33mday\u001b[0m\u001b[39m=\u001b[0m\u001b[1;36m17\u001b[0m\u001b[1;39m)\u001b[0m\u001b[39m,\u001b[0m\n",
       "\u001b[39m            \u001b[0m\u001b[33mchanges\u001b[0m\u001b[39m=\u001b[0m\u001b[1;39m[\u001b[0m\n",
       "\u001b[39m                \u001b[0m\u001b[1;35mChange\u001b[0m\u001b[1;39m(\u001b[0m\n",
       "\u001b[39m                    \u001b[0m\u001b[33mcontent\u001b[0m\u001b[39m=\u001b[0m\u001b[32m'The system now supports microseconds in all related time and/or timestamp fields. \u001b[0m\n",
       "\u001b[32mMicrosecond support is opt-in, by default the requests and responses still use milliseconds.'\u001b[0m\u001b[39m,\u001b[0m\n",
       "\u001b[39m                    \u001b[0m\u001b[33mcategory\u001b[0m\u001b[39m=<Category.NEW_FEATURES: \u001b[0m\u001b[32m'new features'\u001b[0m\u001b[39m>\u001b[0m\n",
       "\u001b[39m                \u001b[0m\u001b[1;39m)\u001b[0m\u001b[39m,\u001b[0m\n",
       "\u001b[39m                \u001b[0m\u001b[1;35mChange\u001b[0m\u001b[1;39m(\u001b[0m\n",
       "\u001b[39m                    \u001b[0m\u001b[33mcontent\u001b[0m\u001b[39m=\u001b[0m\u001b[32m'A new optional parameter `timeUnit` can be used in the connection URL to select the \u001b[0m\n",
       "\u001b[32mtime unit for WebSocket Streams.'\u001b[0m\u001b[39m,\u001b[0m\n",
       "\u001b[39m                    \u001b[0m\u001b[33mcategory\u001b[0m\u001b[39m=<Category.NEW_FEATURES: \u001b[0m\u001b[32m'new features'\u001b[0m\u001b[39m>\u001b[0m\n",
       "\u001b[39m                \u001b[0m\u001b[1;39m)\u001b[0m\u001b[39m,\u001b[0m\n",
       "\u001b[39m                \u001b[0m\u001b[1;35mChange\u001b[0m\u001b[1;39m(\u001b[0m\n",
       "\u001b[39m                    \u001b[0m\u001b[33mcontent\u001b[0m\u001b[39m=\u001b[0m\u001b[32m'A new optional header `X-MBX-TIME-UNIT` can be sent in the request to select the time \u001b[0m\n",
       "\u001b[32munit for REST API.'\u001b[0m\u001b[39m,\u001b[0m\n",
       "\u001b[39m                    \u001b[0m\u001b[33mcategory\u001b[0m\u001b[39m=<Category.NEW_FEATURES: \u001b[0m\u001b[32m'new features'\u001b[0m\u001b[39m>\u001b[0m\n",
       "\u001b[39m                \u001b[0m\u001b[1;39m)\u001b[0m\u001b[39m,\u001b[0m\n",
       "\u001b[39m                \u001b[0m\u001b[1;35mChange\u001b[0m\u001b[1;39m(\u001b[0m\n",
       "\u001b[39m                    \u001b[0m\u001b[33mcontent\u001b[0m\u001b[39m=\u001b[0m\u001b[32m'Timestamp parameters can now be passed in milliseconds or microseconds for REST API.'\u001b[0m\u001b[39m,\u001b[0m\n",
       "\u001b[39m                    \u001b[0m\u001b[33mcategory\u001b[0m\u001b[39m=<Category.NEW_FEATURES: \u001b[0m\u001b[32m'new features'\u001b[0m\u001b[39m>\u001b[0m\n",
       "\u001b[39m                \u001b[0m\u001b[1;39m)\u001b[0m\u001b[39m,\u001b[0m\n",
       "\u001b[39m                \u001b[0m\u001b[1;35mChange\u001b[0m\u001b[1;39m(\u001b[0m\n",
       "\u001b[39m                    \u001b[0m\u001b[33mcontent\u001b[0m\u001b[39m=\u001b[0m\u001b[32m'A new optional parameter `timeUnit` can be used in the connection URL to select the \u001b[0m\n",
       "\u001b[32mtime unit for WebSocket API.'\u001b[0m\u001b[39m,\u001b[0m\n",
       "\u001b[39m                    \u001b[0m\u001b[33mcategory\u001b[0m\u001b[39m=<Category.NEW_FEATURES: \u001b[0m\u001b[32m'new features'\u001b[0m\u001b[39m>\u001b[0m\n",
       "\u001b[39m                \u001b[0m\u001b[1;39m)\u001b[0m\u001b[39m,\u001b[0m\n",
       "\u001b[39m                \u001b[0m\u001b[1;35mChange\u001b[0m\u001b[1;39m(\u001b[0m\n",
       "\u001b[39m                    \u001b[0m\u001b[33mcontent\u001b[0m\u001b[39m=\u001b[0m\u001b[32m'Timestamp parameters can now be passed in milliseconds or microseconds for WebSocket \u001b[0m\n",
       "\u001b[32mAPI.'\u001b[0m\u001b[39m,\u001b[0m\n",
       "\u001b[39m                    \u001b[0m\u001b[33mcategory\u001b[0m\u001b[39m=<Category.NEW_FEATURES: \u001b[0m\u001b[32m'new features'\u001b[0m\u001b[39m>\u001b[0m\n",
       "\u001b[39m                \u001b[0m\u001b[1;39m)\u001b[0m\u001b[39m,\u001b[0m\n",
       "\u001b[39m                \u001b[0m\u001b[1;35mChange\u001b[0m\u001b[1;39m(\u001b[0m\n",
       "\u001b[39m                    \u001b[0m\u001b[33mcontent\u001b[0m\u001b[39m=\u001b[0m\u001b[32m'A new optional parameter `timeUnit` can be used in the connection URL to select the \u001b[0m\n",
       "\u001b[32mtime unit for User Data Streams.'\u001b[0m\u001b[39m,\u001b[0m\n",
       "\u001b[39m                    \u001b[0m\u001b[33mcategory\u001b[0m\u001b[39m=<Category.NEW_FEATURES: \u001b[0m\u001b[32m'new features'\u001b[0m\u001b[39m>\u001b[0m\n",
       "\u001b[39m                \u001b[0m\u001b[1;39m)\u001b[0m\n",
       "\u001b[39m            \u001b[0m\u001b[1;39m]\u001b[0m\n",
       "\u001b[39m        \u001b[0m\u001b[1;39m)\u001b[0m\u001b[39m,\u001b[0m\n",
       "\u001b[39m        \u001b[0m\u001b[1;35mEntry\u001b[0m\u001b[1;39m(\u001b[0m\n",
       "\u001b[39m            \u001b[0m\u001b[33mdate\u001b[0m\u001b[39m=\u001b[0m\u001b[1;35mDate\u001b[0m\u001b[1;39m(\u001b[0m\u001b[33myear\u001b[0m\u001b[39m=\u001b[0m\u001b[1;36m2024\u001b[0m\u001b[39m, \u001b[0m\u001b[33mmonth\u001b[0m\u001b[39m=\u001b[0m\u001b[1;36m12\u001b[0m\u001b[39m, \u001b[0m\u001b[33mday\u001b[0m\u001b[39m=\u001b[0m\u001b[1;36m9\u001b[0m\u001b[1;39m)\u001b[0m\u001b[39m,\u001b[0m\n",
       "\u001b[39m            \u001b[0m\u001b[33mchanges\u001b[0m\u001b[39m=\u001b[0m\u001b[1;39m[\u001b[0m\n",
       "\u001b[39m                \u001b[0m\u001b[1;35mChange\u001b[0m\u001b[1;39m(\u001b[0m\n",
       "\u001b[39m                    \u001b[0m\u001b[33mcontent\u001b[0m\u001b[39m=\u001b[0m\u001b[32m'Timestamp parameters now reject values too far into the past or the future.'\u001b[0m\u001b[39m,\u001b[0m\n",
       "\u001b[39m                    \u001b[0m\u001b[33mcategory\u001b[0m\u001b[39m=<Category.BREAKING_CHANGES: \u001b[0m\u001b[32m'breaking changes'\u001b[0m\u001b[39m>\u001b[0m\n",
       "\u001b[39m                \u001b[0m\u001b[1;39m)\u001b[0m\u001b[39m,\u001b[0m\n",
       "\u001b[39m                \u001b[0m\u001b[1;35mChange\u001b[0m\u001b[1;39m(\u001b[0m\n",
       "\u001b[39m                    \u001b[0m\u001b[33mcontent\u001b[0m\u001b[39m=\u001b[0m\u001b[32m'The field for quote order quantity \u001b[0m\u001b[32m(\u001b[0m\u001b[32m`origQuoteOrderQty`\u001b[0m\u001b[32m)\u001b[0m\u001b[32m has been added to responses \u001b[0m\n",
       "\u001b[32mthat previously did not have it.'\u001b[0m\u001b[39m,\u001b[0m\n",
       "\u001b[39m                    \u001b[0m\u001b[33mcategory\u001b[0m\u001b[39m=<Category.NEW_FEATURES: \u001b[0m\u001b[32m'new features'\u001b[0m\u001b[39m>\u001b[0m\n",
       "\u001b[39m                \u001b[0m\u001b[1;39m)\u001b[0m\u001b[39m,\u001b[0m\n",
       "\u001b[39m                \u001b[0m\u001b[1;35mChange\u001b[0m\u001b[1;39m(\u001b[0m\n",
       "\u001b[39m                    \u001b[0m\u001b[33mcontent\u001b[0m\u001b[39m=\u001b[0m\u001b[32m'A new schema 2:1 spot_2_1.xml has been released. The current schema 2:0 spot_2_0.xml \u001b[0m\n",
       "\u001b[32mwill thus be deprecated, and retired from the API in 6 months as per our schema deprecation policy.'\u001b[0m\u001b[39m,\u001b[0m\n",
       "\u001b[39m                    \u001b[0m\u001b[33mcategory\u001b[0m\u001b[39m=<Category.DEPRECATIONS: \u001b[0m\u001b[32m'deprecations'\u001b[0m\u001b[39m>\u001b[0m\n",
       "\u001b[39m                \u001b[0m\u001b[1;39m)\u001b[0m\u001b[39m,\u001b[0m\n",
       "\u001b[39m                \u001b[0m\u001b[1;35mChange\u001b[0m\u001b[1;39m(\u001b[0m\n",
       "\u001b[39m                    \u001b[0m\u001b[33mcontent\u001b[0m\u001b[39m=\u001b[0m\u001b[32m'Schema 2:1 is a backward compatible update of schema 2:0.'\u001b[0m\u001b[39m,\u001b[0m\n",
       "\u001b[39m                    \u001b[0m\u001b[33mcategory\u001b[0m\u001b[39m=<Category.NEW_FEATURES: \u001b[0m\u001b[32m'new features'\u001b[0m\u001b[1m>\u001b[0m\n",
       "                \u001b[1m)\u001b[0m\n",
       "            \u001b[1m]\u001b[0m\n",
       "        \u001b[1m)\u001b[0m\n",
       "    \u001b[1m]\u001b[0m\n",
       "\u001b[1m)\u001b[0m\n"
      ]
     },
     "metadata": {},
     "output_type": "display_data"
    }
   ],
   "source": [
    "client = OpenAI()\n",
    "\n",
    "\n",
    "system_prompt = \"\"\"\n",
    "Extract information from the provided API changelog and structure it according to the specified schema.\n",
    "Only use information directly present in the context and do not fabricate or create placeholders.\n",
    "\n",
    "# Steps\n",
    "1. **Identify the Date**: Extract the date for each set of changes in the format of year, month, and day.\n",
    "2. **Categorize Changes**: For each change mentioned, determine its category from the given options:\n",
    "   - Breaking Changes\n",
    "   - New Features\n",
    "   - Deprecations\n",
    "   - Bug Fixes\n",
    "   - Performance Improvements\n",
    "   - Security Updates\n",
    "3. **Structure the Data**: For each date, compile all the changes and their categories.\n",
    "\n",
    "# Notes\n",
    "- Ensure that all extracted information directly corresponds to what is provided in the changelog.\n",
    "- Avoid assumptions or additions outside the given text.\n",
    "- Maintain correctness and completeness according to the specified schema.\n",
    "\"\"\".strip()\n",
    "messages = [\n",
    "    {\"role\": \"system\", \"content\": system_prompt},\n",
    "    {\"role\": \"user\", \"content\": markdown_content[:max_length]},\n",
    "]\n",
    "\n",
    "response = client.beta.chat.completions.parse(\n",
    "    messages=messages,\n",
    "    model=model,\n",
    "    temperature=temperature,\n",
    "    max_tokens=max_tokens,\n",
    "    response_format=Changelog,\n",
    ")\n",
    "\n",
    "\n",
    "parsed = response.choices[0].message.parsed\n",
    "print(parsed)"
   ]
  },
  {
   "cell_type": "code",
   "execution_count": 8,
   "id": "edd83c09-8425-41f1-acd6-111dbd6fd79c",
   "metadata": {},
   "outputs": [
    {
     "data": {
      "text/html": [
       "<pre style=\"white-space:pre;overflow-x:auto;line-height:normal;font-family:Menlo,'DejaVu Sans Mono',consolas,'Courier New',monospace\">Date: <span style=\"color: #808000; text-decoration-color: #808000\">year</span>=<span style=\"color: #008080; text-decoration-color: #008080; font-weight: bold\">2025</span> <span style=\"color: #808000; text-decoration-color: #808000\">month</span>=<span style=\"color: #008080; text-decoration-color: #008080; font-weight: bold\">1</span> <span style=\"color: #808000; text-decoration-color: #808000\">day</span>=<span style=\"color: #008080; text-decoration-color: #008080; font-weight: bold\">9</span>\n",
       "</pre>\n"
      ],
      "text/plain": [
       "Date: \u001b[33myear\u001b[0m=\u001b[1;36m2025\u001b[0m \u001b[33mmonth\u001b[0m=\u001b[1;36m1\u001b[0m \u001b[33mday\u001b[0m=\u001b[1;36m9\u001b[0m\n"
      ]
     },
     "metadata": {},
     "output_type": "display_data"
    },
    {
     "data": {
      "text/html": [
       "<pre style=\"white-space:pre;overflow-x:auto;line-height:normal;font-family:Menlo,'DejaVu Sans Mono',consolas,'Courier New',monospace\"><span style=\"color: #800080; text-decoration-color: #800080; font-weight: bold\">Change</span><span style=\"font-weight: bold\">(</span>\n",
       "    <span style=\"color: #808000; text-decoration-color: #808000\">content</span>=<span style=\"color: #008000; text-decoration-color: #008000\">'FIX Market Data will be available at January 16, 05:00 UTC. The FIX API documentation has been updated</span>\n",
       "<span style=\"color: #008000; text-decoration-color: #008000\">regarding this feature.'</span>,\n",
       "    <span style=\"color: #808000; text-decoration-color: #808000\">category</span>=<span style=\"font-weight: bold\">&lt;</span><span style=\"color: #ff00ff; text-decoration-color: #ff00ff; font-weight: bold\">Category.NEW_FEATURES:</span><span style=\"color: #000000; text-decoration-color: #000000\"> </span><span style=\"color: #008000; text-decoration-color: #008000\">'new features'</span><span style=\"font-weight: bold\">&gt;</span>\n",
       "<span style=\"font-weight: bold\">)</span>\n",
       "</pre>\n"
      ],
      "text/plain": [
       "\u001b[1;35mChange\u001b[0m\u001b[1m(\u001b[0m\n",
       "    \u001b[33mcontent\u001b[0m=\u001b[32m'FIX Market Data will be available at January 16, 05:00 UTC. The FIX API documentation has been updated\u001b[0m\n",
       "\u001b[32mregarding this feature.'\u001b[0m,\n",
       "    \u001b[33mcategory\u001b[0m=\u001b[1m<\u001b[0m\u001b[1;95mCategory.NEW_FEATURES:\u001b[0m\u001b[39m \u001b[0m\u001b[32m'new features'\u001b[0m\u001b[1m>\u001b[0m\n",
       "\u001b[1m)\u001b[0m\n"
      ]
     },
     "metadata": {},
     "output_type": "display_data"
    },
    {
     "data": {
      "text/html": [
       "<pre style=\"white-space:pre;overflow-x:auto;line-height:normal;font-family:Menlo,'DejaVu Sans Mono',consolas,'Courier New',monospace\">Date: <span style=\"color: #808000; text-decoration-color: #808000\">year</span>=<span style=\"color: #008080; text-decoration-color: #008080; font-weight: bold\">2024</span> <span style=\"color: #808000; text-decoration-color: #808000\">month</span>=<span style=\"color: #008080; text-decoration-color: #008080; font-weight: bold\">12</span> <span style=\"color: #808000; text-decoration-color: #808000\">day</span>=<span style=\"color: #008080; text-decoration-color: #008080; font-weight: bold\">17</span>\n",
       "</pre>\n"
      ],
      "text/plain": [
       "Date: \u001b[33myear\u001b[0m=\u001b[1;36m2024\u001b[0m \u001b[33mmonth\u001b[0m=\u001b[1;36m12\u001b[0m \u001b[33mday\u001b[0m=\u001b[1;36m17\u001b[0m\n"
      ]
     },
     "metadata": {},
     "output_type": "display_data"
    },
    {
     "data": {
      "text/html": [
       "<pre style=\"white-space:pre;overflow-x:auto;line-height:normal;font-family:Menlo,'DejaVu Sans Mono',consolas,'Courier New',monospace\"><span style=\"color: #800080; text-decoration-color: #800080; font-weight: bold\">Change</span><span style=\"font-weight: bold\">(</span>\n",
       "    <span style=\"color: #808000; text-decoration-color: #808000\">content</span>=<span style=\"color: #008000; text-decoration-color: #008000\">'The system now supports microseconds in all related time and/or timestamp fields. Microsecond support </span>\n",
       "<span style=\"color: #008000; text-decoration-color: #008000\">is opt-in, by default the requests and responses still use milliseconds.'</span>,\n",
       "    <span style=\"color: #808000; text-decoration-color: #808000\">category</span>=<span style=\"font-weight: bold\">&lt;</span><span style=\"color: #ff00ff; text-decoration-color: #ff00ff; font-weight: bold\">Category.NEW_FEATURES:</span><span style=\"color: #000000; text-decoration-color: #000000\"> </span><span style=\"color: #008000; text-decoration-color: #008000\">'new features'</span><span style=\"font-weight: bold\">&gt;</span>\n",
       "<span style=\"font-weight: bold\">)</span>\n",
       "</pre>\n"
      ],
      "text/plain": [
       "\u001b[1;35mChange\u001b[0m\u001b[1m(\u001b[0m\n",
       "    \u001b[33mcontent\u001b[0m=\u001b[32m'The system now supports microseconds in all related time and/or timestamp fields. Microsecond support \u001b[0m\n",
       "\u001b[32mis opt-in, by default the requests and responses still use milliseconds.'\u001b[0m,\n",
       "    \u001b[33mcategory\u001b[0m=\u001b[1m<\u001b[0m\u001b[1;95mCategory.NEW_FEATURES:\u001b[0m\u001b[39m \u001b[0m\u001b[32m'new features'\u001b[0m\u001b[1m>\u001b[0m\n",
       "\u001b[1m)\u001b[0m\n"
      ]
     },
     "metadata": {},
     "output_type": "display_data"
    },
    {
     "data": {
      "text/html": [
       "<pre style=\"white-space:pre;overflow-x:auto;line-height:normal;font-family:Menlo,'DejaVu Sans Mono',consolas,'Courier New',monospace\"><span style=\"color: #800080; text-decoration-color: #800080; font-weight: bold\">Change</span><span style=\"font-weight: bold\">(</span>\n",
       "    <span style=\"color: #808000; text-decoration-color: #808000\">content</span>=<span style=\"color: #008000; text-decoration-color: #008000\">'A new optional parameter `timeUnit` can be used in the connection URL to select the time unit for </span>\n",
       "<span style=\"color: #008000; text-decoration-color: #008000\">WebSocket Streams.'</span>,\n",
       "    <span style=\"color: #808000; text-decoration-color: #808000\">category</span>=<span style=\"font-weight: bold\">&lt;</span><span style=\"color: #ff00ff; text-decoration-color: #ff00ff; font-weight: bold\">Category.NEW_FEATURES:</span><span style=\"color: #000000; text-decoration-color: #000000\"> </span><span style=\"color: #008000; text-decoration-color: #008000\">'new features'</span><span style=\"font-weight: bold\">&gt;</span>\n",
       "<span style=\"font-weight: bold\">)</span>\n",
       "</pre>\n"
      ],
      "text/plain": [
       "\u001b[1;35mChange\u001b[0m\u001b[1m(\u001b[0m\n",
       "    \u001b[33mcontent\u001b[0m=\u001b[32m'A new optional parameter `timeUnit` can be used in the connection URL to select the time unit for \u001b[0m\n",
       "\u001b[32mWebSocket Streams.'\u001b[0m,\n",
       "    \u001b[33mcategory\u001b[0m=\u001b[1m<\u001b[0m\u001b[1;95mCategory.NEW_FEATURES:\u001b[0m\u001b[39m \u001b[0m\u001b[32m'new features'\u001b[0m\u001b[1m>\u001b[0m\n",
       "\u001b[1m)\u001b[0m\n"
      ]
     },
     "metadata": {},
     "output_type": "display_data"
    },
    {
     "data": {
      "text/html": [
       "<pre style=\"white-space:pre;overflow-x:auto;line-height:normal;font-family:Menlo,'DejaVu Sans Mono',consolas,'Courier New',monospace\"><span style=\"color: #800080; text-decoration-color: #800080; font-weight: bold\">Change</span><span style=\"font-weight: bold\">(</span>\n",
       "    <span style=\"color: #808000; text-decoration-color: #808000\">content</span>=<span style=\"color: #008000; text-decoration-color: #008000\">'A new optional header `X-MBX-TIME-UNIT` can be sent in the request to select the time unit for REST </span>\n",
       "<span style=\"color: #008000; text-decoration-color: #008000\">API.'</span>,\n",
       "    <span style=\"color: #808000; text-decoration-color: #808000\">category</span>=<span style=\"font-weight: bold\">&lt;</span><span style=\"color: #ff00ff; text-decoration-color: #ff00ff; font-weight: bold\">Category.NEW_FEATURES:</span><span style=\"color: #000000; text-decoration-color: #000000\"> </span><span style=\"color: #008000; text-decoration-color: #008000\">'new features'</span><span style=\"font-weight: bold\">&gt;</span>\n",
       "<span style=\"font-weight: bold\">)</span>\n",
       "</pre>\n"
      ],
      "text/plain": [
       "\u001b[1;35mChange\u001b[0m\u001b[1m(\u001b[0m\n",
       "    \u001b[33mcontent\u001b[0m=\u001b[32m'A new optional header `X-MBX-TIME-UNIT` can be sent in the request to select the time unit for REST \u001b[0m\n",
       "\u001b[32mAPI.'\u001b[0m,\n",
       "    \u001b[33mcategory\u001b[0m=\u001b[1m<\u001b[0m\u001b[1;95mCategory.NEW_FEATURES:\u001b[0m\u001b[39m \u001b[0m\u001b[32m'new features'\u001b[0m\u001b[1m>\u001b[0m\n",
       "\u001b[1m)\u001b[0m\n"
      ]
     },
     "metadata": {},
     "output_type": "display_data"
    },
    {
     "data": {
      "text/html": [
       "<pre style=\"white-space:pre;overflow-x:auto;line-height:normal;font-family:Menlo,'DejaVu Sans Mono',consolas,'Courier New',monospace\"><span style=\"color: #800080; text-decoration-color: #800080; font-weight: bold\">Change</span><span style=\"font-weight: bold\">(</span>\n",
       "    <span style=\"color: #808000; text-decoration-color: #808000\">content</span>=<span style=\"color: #008000; text-decoration-color: #008000\">'Timestamp parameters can now be passed in milliseconds or microseconds for REST API.'</span>,\n",
       "    <span style=\"color: #808000; text-decoration-color: #808000\">category</span>=<span style=\"font-weight: bold\">&lt;</span><span style=\"color: #ff00ff; text-decoration-color: #ff00ff; font-weight: bold\">Category.NEW_FEATURES:</span><span style=\"color: #000000; text-decoration-color: #000000\"> </span><span style=\"color: #008000; text-decoration-color: #008000\">'new features'</span><span style=\"font-weight: bold\">&gt;</span>\n",
       "<span style=\"font-weight: bold\">)</span>\n",
       "</pre>\n"
      ],
      "text/plain": [
       "\u001b[1;35mChange\u001b[0m\u001b[1m(\u001b[0m\n",
       "    \u001b[33mcontent\u001b[0m=\u001b[32m'Timestamp parameters can now be passed in milliseconds or microseconds for REST API.'\u001b[0m,\n",
       "    \u001b[33mcategory\u001b[0m=\u001b[1m<\u001b[0m\u001b[1;95mCategory.NEW_FEATURES:\u001b[0m\u001b[39m \u001b[0m\u001b[32m'new features'\u001b[0m\u001b[1m>\u001b[0m\n",
       "\u001b[1m)\u001b[0m\n"
      ]
     },
     "metadata": {},
     "output_type": "display_data"
    },
    {
     "data": {
      "text/html": [
       "<pre style=\"white-space:pre;overflow-x:auto;line-height:normal;font-family:Menlo,'DejaVu Sans Mono',consolas,'Courier New',monospace\"><span style=\"color: #800080; text-decoration-color: #800080; font-weight: bold\">Change</span><span style=\"font-weight: bold\">(</span>\n",
       "    <span style=\"color: #808000; text-decoration-color: #808000\">content</span>=<span style=\"color: #008000; text-decoration-color: #008000\">'A new optional parameter `timeUnit` can be used in the connection URL to select the time unit for </span>\n",
       "<span style=\"color: #008000; text-decoration-color: #008000\">WebSocket API.'</span>,\n",
       "    <span style=\"color: #808000; text-decoration-color: #808000\">category</span>=<span style=\"font-weight: bold\">&lt;</span><span style=\"color: #ff00ff; text-decoration-color: #ff00ff; font-weight: bold\">Category.NEW_FEATURES:</span><span style=\"color: #000000; text-decoration-color: #000000\"> </span><span style=\"color: #008000; text-decoration-color: #008000\">'new features'</span><span style=\"font-weight: bold\">&gt;</span>\n",
       "<span style=\"font-weight: bold\">)</span>\n",
       "</pre>\n"
      ],
      "text/plain": [
       "\u001b[1;35mChange\u001b[0m\u001b[1m(\u001b[0m\n",
       "    \u001b[33mcontent\u001b[0m=\u001b[32m'A new optional parameter `timeUnit` can be used in the connection URL to select the time unit for \u001b[0m\n",
       "\u001b[32mWebSocket API.'\u001b[0m,\n",
       "    \u001b[33mcategory\u001b[0m=\u001b[1m<\u001b[0m\u001b[1;95mCategory.NEW_FEATURES:\u001b[0m\u001b[39m \u001b[0m\u001b[32m'new features'\u001b[0m\u001b[1m>\u001b[0m\n",
       "\u001b[1m)\u001b[0m\n"
      ]
     },
     "metadata": {},
     "output_type": "display_data"
    },
    {
     "data": {
      "text/html": [
       "<pre style=\"white-space:pre;overflow-x:auto;line-height:normal;font-family:Menlo,'DejaVu Sans Mono',consolas,'Courier New',monospace\"><span style=\"color: #800080; text-decoration-color: #800080; font-weight: bold\">Change</span><span style=\"font-weight: bold\">(</span>\n",
       "    <span style=\"color: #808000; text-decoration-color: #808000\">content</span>=<span style=\"color: #008000; text-decoration-color: #008000\">'Timestamp parameters can now be passed in milliseconds or microseconds for WebSocket API.'</span>,\n",
       "    <span style=\"color: #808000; text-decoration-color: #808000\">category</span>=<span style=\"font-weight: bold\">&lt;</span><span style=\"color: #ff00ff; text-decoration-color: #ff00ff; font-weight: bold\">Category.NEW_FEATURES:</span><span style=\"color: #000000; text-decoration-color: #000000\"> </span><span style=\"color: #008000; text-decoration-color: #008000\">'new features'</span><span style=\"font-weight: bold\">&gt;</span>\n",
       "<span style=\"font-weight: bold\">)</span>\n",
       "</pre>\n"
      ],
      "text/plain": [
       "\u001b[1;35mChange\u001b[0m\u001b[1m(\u001b[0m\n",
       "    \u001b[33mcontent\u001b[0m=\u001b[32m'Timestamp parameters can now be passed in milliseconds or microseconds for WebSocket API.'\u001b[0m,\n",
       "    \u001b[33mcategory\u001b[0m=\u001b[1m<\u001b[0m\u001b[1;95mCategory.NEW_FEATURES:\u001b[0m\u001b[39m \u001b[0m\u001b[32m'new features'\u001b[0m\u001b[1m>\u001b[0m\n",
       "\u001b[1m)\u001b[0m\n"
      ]
     },
     "metadata": {},
     "output_type": "display_data"
    },
    {
     "data": {
      "text/html": [
       "<pre style=\"white-space:pre;overflow-x:auto;line-height:normal;font-family:Menlo,'DejaVu Sans Mono',consolas,'Courier New',monospace\"><span style=\"color: #800080; text-decoration-color: #800080; font-weight: bold\">Change</span><span style=\"font-weight: bold\">(</span>\n",
       "    <span style=\"color: #808000; text-decoration-color: #808000\">content</span>=<span style=\"color: #008000; text-decoration-color: #008000\">'A new optional parameter `timeUnit` can be used in the connection URL to select the time unit for User</span>\n",
       "<span style=\"color: #008000; text-decoration-color: #008000\">Data Streams.'</span>,\n",
       "    <span style=\"color: #808000; text-decoration-color: #808000\">category</span>=<span style=\"font-weight: bold\">&lt;</span><span style=\"color: #ff00ff; text-decoration-color: #ff00ff; font-weight: bold\">Category.NEW_FEATURES:</span><span style=\"color: #000000; text-decoration-color: #000000\"> </span><span style=\"color: #008000; text-decoration-color: #008000\">'new features'</span><span style=\"font-weight: bold\">&gt;</span>\n",
       "<span style=\"font-weight: bold\">)</span>\n",
       "</pre>\n"
      ],
      "text/plain": [
       "\u001b[1;35mChange\u001b[0m\u001b[1m(\u001b[0m\n",
       "    \u001b[33mcontent\u001b[0m=\u001b[32m'A new optional parameter `timeUnit` can be used in the connection URL to select the time unit for User\u001b[0m\n",
       "\u001b[32mData Streams.'\u001b[0m,\n",
       "    \u001b[33mcategory\u001b[0m=\u001b[1m<\u001b[0m\u001b[1;95mCategory.NEW_FEATURES:\u001b[0m\u001b[39m \u001b[0m\u001b[32m'new features'\u001b[0m\u001b[1m>\u001b[0m\n",
       "\u001b[1m)\u001b[0m\n"
      ]
     },
     "metadata": {},
     "output_type": "display_data"
    },
    {
     "data": {
      "text/html": [
       "<pre style=\"white-space:pre;overflow-x:auto;line-height:normal;font-family:Menlo,'DejaVu Sans Mono',consolas,'Courier New',monospace\">Date: <span style=\"color: #808000; text-decoration-color: #808000\">year</span>=<span style=\"color: #008080; text-decoration-color: #008080; font-weight: bold\">2024</span> <span style=\"color: #808000; text-decoration-color: #808000\">month</span>=<span style=\"color: #008080; text-decoration-color: #008080; font-weight: bold\">12</span> <span style=\"color: #808000; text-decoration-color: #808000\">day</span>=<span style=\"color: #008080; text-decoration-color: #008080; font-weight: bold\">9</span>\n",
       "</pre>\n"
      ],
      "text/plain": [
       "Date: \u001b[33myear\u001b[0m=\u001b[1;36m2024\u001b[0m \u001b[33mmonth\u001b[0m=\u001b[1;36m12\u001b[0m \u001b[33mday\u001b[0m=\u001b[1;36m9\u001b[0m\n"
      ]
     },
     "metadata": {},
     "output_type": "display_data"
    },
    {
     "data": {
      "text/html": [
       "<pre style=\"white-space:pre;overflow-x:auto;line-height:normal;font-family:Menlo,'DejaVu Sans Mono',consolas,'Courier New',monospace\"><span style=\"color: #800080; text-decoration-color: #800080; font-weight: bold\">Change</span><span style=\"font-weight: bold\">(</span>\n",
       "    <span style=\"color: #808000; text-decoration-color: #808000\">content</span>=<span style=\"color: #008000; text-decoration-color: #008000\">'Timestamp parameters now reject values too far into the past or the future.'</span>,\n",
       "    <span style=\"color: #808000; text-decoration-color: #808000\">category</span>=<span style=\"font-weight: bold\">&lt;</span><span style=\"color: #ff00ff; text-decoration-color: #ff00ff; font-weight: bold\">Category.BREAKING_CHANGES:</span><span style=\"color: #000000; text-decoration-color: #000000\"> </span><span style=\"color: #008000; text-decoration-color: #008000\">'breaking changes'</span><span style=\"font-weight: bold\">&gt;</span>\n",
       "<span style=\"font-weight: bold\">)</span>\n",
       "</pre>\n"
      ],
      "text/plain": [
       "\u001b[1;35mChange\u001b[0m\u001b[1m(\u001b[0m\n",
       "    \u001b[33mcontent\u001b[0m=\u001b[32m'Timestamp parameters now reject values too far into the past or the future.'\u001b[0m,\n",
       "    \u001b[33mcategory\u001b[0m=\u001b[1m<\u001b[0m\u001b[1;95mCategory.BREAKING_CHANGES:\u001b[0m\u001b[39m \u001b[0m\u001b[32m'breaking changes'\u001b[0m\u001b[1m>\u001b[0m\n",
       "\u001b[1m)\u001b[0m\n"
      ]
     },
     "metadata": {},
     "output_type": "display_data"
    },
    {
     "data": {
      "text/html": [
       "<pre style=\"white-space:pre;overflow-x:auto;line-height:normal;font-family:Menlo,'DejaVu Sans Mono',consolas,'Courier New',monospace\"><span style=\"color: #800080; text-decoration-color: #800080; font-weight: bold\">Change</span><span style=\"font-weight: bold\">(</span>\n",
       "    <span style=\"color: #808000; text-decoration-color: #808000\">content</span>=<span style=\"color: #008000; text-decoration-color: #008000\">'The field for quote order quantity (`origQuoteOrderQty`) has been added to responses that previously </span>\n",
       "<span style=\"color: #008000; text-decoration-color: #008000\">did not have it.'</span>,\n",
       "    <span style=\"color: #808000; text-decoration-color: #808000\">category</span>=<span style=\"font-weight: bold\">&lt;</span><span style=\"color: #ff00ff; text-decoration-color: #ff00ff; font-weight: bold\">Category.NEW_FEATURES:</span><span style=\"color: #000000; text-decoration-color: #000000\"> </span><span style=\"color: #008000; text-decoration-color: #008000\">'new features'</span><span style=\"font-weight: bold\">&gt;</span>\n",
       "<span style=\"font-weight: bold\">)</span>\n",
       "</pre>\n"
      ],
      "text/plain": [
       "\u001b[1;35mChange\u001b[0m\u001b[1m(\u001b[0m\n",
       "    \u001b[33mcontent\u001b[0m=\u001b[32m'The field for quote order quantity \u001b[0m\u001b[32m(\u001b[0m\u001b[32m`origQuoteOrderQty`\u001b[0m\u001b[32m)\u001b[0m\u001b[32m has been added to responses that previously \u001b[0m\n",
       "\u001b[32mdid not have it.'\u001b[0m,\n",
       "    \u001b[33mcategory\u001b[0m=\u001b[1m<\u001b[0m\u001b[1;95mCategory.NEW_FEATURES:\u001b[0m\u001b[39m \u001b[0m\u001b[32m'new features'\u001b[0m\u001b[1m>\u001b[0m\n",
       "\u001b[1m)\u001b[0m\n"
      ]
     },
     "metadata": {},
     "output_type": "display_data"
    },
    {
     "data": {
      "text/html": [
       "<pre style=\"white-space:pre;overflow-x:auto;line-height:normal;font-family:Menlo,'DejaVu Sans Mono',consolas,'Courier New',monospace\"><span style=\"color: #800080; text-decoration-color: #800080; font-weight: bold\">Change</span><span style=\"font-weight: bold\">(</span>\n",
       "    <span style=\"color: #808000; text-decoration-color: #808000\">content</span>=<span style=\"color: #008000; text-decoration-color: #008000\">'A new schema 2:1 spot_2_1.xml has been released. The current schema 2:0 spot_2_0.xml will thus be </span>\n",
       "<span style=\"color: #008000; text-decoration-color: #008000\">deprecated, and retired from the API in 6 months as per our schema deprecation policy.'</span>,\n",
       "    <span style=\"color: #808000; text-decoration-color: #808000\">category</span>=<span style=\"font-weight: bold\">&lt;</span><span style=\"color: #ff00ff; text-decoration-color: #ff00ff; font-weight: bold\">Category.DEPRECATIONS:</span><span style=\"color: #000000; text-decoration-color: #000000\"> </span><span style=\"color: #008000; text-decoration-color: #008000\">'deprecations'</span><span style=\"font-weight: bold\">&gt;</span>\n",
       "<span style=\"font-weight: bold\">)</span>\n",
       "</pre>\n"
      ],
      "text/plain": [
       "\u001b[1;35mChange\u001b[0m\u001b[1m(\u001b[0m\n",
       "    \u001b[33mcontent\u001b[0m=\u001b[32m'A new schema 2:1 spot_2_1.xml has been released. The current schema 2:0 spot_2_0.xml will thus be \u001b[0m\n",
       "\u001b[32mdeprecated, and retired from the API in 6 months as per our schema deprecation policy.'\u001b[0m,\n",
       "    \u001b[33mcategory\u001b[0m=\u001b[1m<\u001b[0m\u001b[1;95mCategory.DEPRECATIONS:\u001b[0m\u001b[39m \u001b[0m\u001b[32m'deprecations'\u001b[0m\u001b[1m>\u001b[0m\n",
       "\u001b[1m)\u001b[0m\n"
      ]
     },
     "metadata": {},
     "output_type": "display_data"
    },
    {
     "data": {
      "text/html": [
       "<pre style=\"white-space:pre;overflow-x:auto;line-height:normal;font-family:Menlo,'DejaVu Sans Mono',consolas,'Courier New',monospace\"><span style=\"color: #800080; text-decoration-color: #800080; font-weight: bold\">Change</span><span style=\"font-weight: bold\">(</span>\n",
       "    <span style=\"color: #808000; text-decoration-color: #808000\">content</span>=<span style=\"color: #008000; text-decoration-color: #008000\">'Schema 2:1 is a backward compatible update of schema 2:0.'</span>,\n",
       "    <span style=\"color: #808000; text-decoration-color: #808000\">category</span>=<span style=\"font-weight: bold\">&lt;</span><span style=\"color: #ff00ff; text-decoration-color: #ff00ff; font-weight: bold\">Category.NEW_FEATURES:</span><span style=\"color: #000000; text-decoration-color: #000000\"> </span><span style=\"color: #008000; text-decoration-color: #008000\">'new features'</span><span style=\"font-weight: bold\">&gt;</span>\n",
       "<span style=\"font-weight: bold\">)</span>\n",
       "</pre>\n"
      ],
      "text/plain": [
       "\u001b[1;35mChange\u001b[0m\u001b[1m(\u001b[0m\n",
       "    \u001b[33mcontent\u001b[0m=\u001b[32m'Schema 2:1 is a backward compatible update of schema 2:0.'\u001b[0m,\n",
       "    \u001b[33mcategory\u001b[0m=\u001b[1m<\u001b[0m\u001b[1;95mCategory.NEW_FEATURES:\u001b[0m\u001b[39m \u001b[0m\u001b[32m'new features'\u001b[0m\u001b[1m>\u001b[0m\n",
       "\u001b[1m)\u001b[0m\n"
      ]
     },
     "metadata": {},
     "output_type": "display_data"
    }
   ],
   "source": [
    "for change in parsed.entries:\n",
    "    print(f\"Date: {change.date}\")\n",
    "\n",
    "    for item in change.changes:\n",
    "        print(item)"
   ]
  },
  {
   "cell_type": "code",
   "execution_count": null,
   "id": "b3fc6863-14d7-44db-935b-8a6be37a5bbf",
   "metadata": {},
   "outputs": [],
   "source": []
  }
 ],
 "metadata": {
  "kernelspec": {
   "display_name": ".venv",
   "language": "python",
   "name": "python3"
  },
  "language_info": {
   "codemirror_mode": {
    "name": "ipython",
    "version": 3
   },
   "file_extension": ".py",
   "mimetype": "text/x-python",
   "name": "python",
   "nbconvert_exporter": "python",
   "pygments_lexer": "ipython3",
   "version": "3.11.10"
  }
 },
 "nbformat": 4,
 "nbformat_minor": 5
}
